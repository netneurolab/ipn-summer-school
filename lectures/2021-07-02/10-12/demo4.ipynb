{
 "cells": [
  {
   "cell_type": "markdown",
   "metadata": {},
   "source": [
    "# Bifurcation and phase plane analysis"
   ]
  },
  {
   "cell_type": "code",
   "execution_count": null,
   "metadata": {},
   "outputs": [],
   "source": [
    "import warnings\n",
    "warnings.filterwarnings('ignore')"
   ]
  },
  {
   "cell_type": "code",
   "execution_count": 2,
   "metadata": {},
   "outputs": [],
   "source": [
    "# import packages\n",
    "from __future__ import division\n",
    "import numpy as np\n",
    "import matplotlib.pyplot as plt\n",
    "import scipy as sp\n",
    "from mpl_toolkits import mplot3d\n",
    "\n",
    "from scipy.integrate import odeint\n",
    "from ipywidgets import interact, interactive, fixed, interact_manual\n",
    "import ipywidgets as widgets\n",
    "from numpy.linalg import norm\n"
   ]
  },
  {
   "cell_type": "markdown",
   "metadata": {},
   "source": [
    "## The Morris-Lecar Model \n",
    "\n",
    "<p align=\"center\">\n",
    "<img src=\"Imgs/morris-lecar.png\" alt=\"terms\" width=\"900\"/>\n",
    "</p>"
   ]
  },
  {
   "cell_type": "code",
   "execution_count": 3,
   "metadata": {},
   "outputs": [],
   "source": [
    "# Morris-Lecar parameters near SNLC\n",
    "phi = 0.067\n",
    "g_Ca = 4\n",
    "V3 = 12\n",
    "V4 = 17.4\n",
    "E_Ca = 120\n",
    "E_K = -84\n",
    "E_L = -60\n",
    "g_K = 8\n",
    "g_L = 2\n",
    "V1 = -1.2\n",
    "V2 = 18\n",
    "C_M = 20\n",
    "\n",
    "# # Morris Lecar parameters near Hopf\n",
    "# phi = 0.04\n",
    "# g_Ca = 4.4\n",
    "# V3 = 2\n",
    "# V4 = 30\n",
    "# E_Ca = 120\n",
    "# E_K = -84\n",
    "# E_L = -60\n",
    "# g_K = 8\n",
    "# g_L = 2\n",
    "# V1 = -1.2\n",
    "# V2 = 18\n",
    "# C_M = 20\n",
    "\n",
    "# ionic gates\n",
    "def m_inf(V): return 0.5*(1.+np.tanh((V-V1)/V2))\n",
    "def tau_n(V): return 1./np.cosh((V-V3)/(2*V4))\n",
    "def n_inf(V): return 0.5*(1.+np.tanh((V-V3)/V4))\n",
    "    \n",
    "# ionic currents\n",
    "def I_leak(V): return g_L*(V-E_L)\n",
    "def I_K(V,n): return g_K*n*(V-E_K)\n",
    "def I_Ca(V): return g_Ca*m_inf(V)*(V-E_Ca)\n",
    "\n",
    "# individual derivatives\n",
    "def DV(V,n,I_ext=0):\n",
    "    return (I_ext-I_leak(V)-I_K(V,n)-I_Ca(V))/C_M\n",
    "\n",
    "def Dn(V,n):\n",
    "    return phi*(n_inf(V)-n)/tau_n(V)\n",
    "\n",
    "# neuron dynamics\n",
    "def MLneuronVF(X,t,I_ext=0):\n",
    "    V,n = X\n",
    "    dV = DV(V,n,I_ext=I_ext)\n",
    "    dn = Dn(V,n)\n",
    "    return dV,dn\n"
   ]
  },
  {
   "cell_type": "markdown",
   "metadata": {},
   "source": [
    "## Neural Dynamics"
   ]
  },
  {
   "cell_type": "code",
   "execution_count": 12,
   "metadata": {
    "scrolled": false
   },
   "outputs": [
    {
     "data": {
      "application/vnd.jupyter.widget-view+json": {
       "model_id": "eff983278bf1412c9b5a5dfb61e6e60d",
       "version_major": 2,
       "version_minor": 0
      },
      "text/plain": [
       "interactive(children=(FloatSlider(value=1.0, description='slider', max=3999.0, min=1.0, step=100.0), Output())…"
      ]
     },
     "metadata": {},
     "output_type": "display_data"
    }
   ],
   "source": [
    "%matplotlib inline\n",
    "%config InlineBackend.figure_format = 'retina'\n",
    "\n",
    "# integration parameters\n",
    "t_span = np.arange(0.0, 400.0, 0.1) \n",
    "I_ext = 40.6 # external current\n",
    "X0 = [-0, 0.25] # initial condition[V0,n0]\n",
    "\n",
    "# call ode solver\n",
    "X = odeint(lambda X,t: MLneuronVF(X,t,I_ext=I_ext), X0, t_span)\n",
    "\n",
    "colors=['tab:cyan', 'tab:pink', 'tab:olive']\n",
    "def slider_plot(slider):\n",
    "    slider = int(slider)\n",
    "    # plot\n",
    "    plt.figure(figsize=(15,8));\n",
    "    # Voltage\n",
    "    axV = plt.subplot(2,2,1);\n",
    "    axV.plot(t_span[:slider],X[:slider,0],colors[0]);\n",
    "    axV.plot(t_span[slider-1],X[slider-1,0],'ro');\n",
    "    axV.set_title('V');\n",
    "    axV.set_ylabel('mV');\n",
    "    plt.xlim([0,t_span[-1]]);\n",
    "    plt.setp(axV.get_xticklabels(), visible=False);\n",
    "\n",
    "    # n\n",
    "    axn = plt.subplot(2,2,3,sharex=axV);\n",
    "    axn.plot(t_span[:slider],X[:slider,1],colors[1]);\n",
    "    axn.plot(t_span[slider-1],X[slider-1,1],'ro');\n",
    "    axn.set_title('n');\n",
    "    axn.set_ylabel('gate value');\n",
    "    axn.set_xlabel('time (ms)');\n",
    "    plt.xlim([0,t_span[-1]]);\n",
    "\n",
    "    # V,n orbit\n",
    "    axP = plt.subplot(2,2,(2,4));\n",
    "    axP.plot(X[:slider,0],X[:slider,1],colors[2]);\n",
    "    axP.plot(X[slider,0],X[slider,1],'ro');\n",
    "    axP.set_xlabel('V');\n",
    "    axP.set_ylabel('n');\n",
    "    \n",
    "    plt.title('Morris Lecar phase plane for I_ext=%.1f' %I_ext);\n",
    "    \n",
    "interact(slider_plot, slider = widgets.FloatSlider(value=0,\n",
    "                                               min=1,\n",
    "                                               max=len(t_span)-1,\n",
    "                                               step=100));"
   ]
  },
  {
   "cell_type": "markdown",
   "metadata": {},
   "source": [
    "## Nullclines"
   ]
  },
  {
   "cell_type": "code",
   "execution_count": null,
   "metadata": {},
   "outputs": [],
   "source": [
    "# function to find nullclines\n",
    "from scipy.optimize import broyden1\n",
    "\n",
    "def FindNullCline(func,x_range,xin=0):\n",
    "    \"\"\"Find zero of func(y(x),x) for a range of x\"\"\"\n",
    "    y_range = np.empty(len(x_range))\n",
    "    for i,x in enumerate(x_range):\n",
    "        y_range[i] = broyden1(lambda y: func(x,y),xin=xin,f_tol=1e-14)\n",
    "    return y_range"
   ]
  },
  {
   "cell_type": "code",
   "execution_count": null,
   "metadata": {
    "scrolled": false
   },
   "outputs": [],
   "source": [
    "# plot a trajectory and nullclines for chosen param\n",
    "%matplotlib notebook\n",
    "%config InlineBackend.figure_format = 'retina'\n",
    "\n",
    "# find nullclines\n",
    "V_range = np.linspace(-50,50,20)\n",
    "V_null_n = FindNullCline(lambda V,n:DV(V,n,I_ext=I_ext),V_range)\n",
    "n_null_n = FindNullCline(Dn,V_range)\n",
    "\n",
    "# integrate one trajetory\n",
    "t_span = np.arange(0.0, 200.0, 0.1) \n",
    "# I_ext = 20\n",
    "# X0 = [0, 0.25] # initial condition[V0,n0]\n",
    "X = odeint(lambda X,t: MLneuronVF(X,t,I_ext=I_ext), X0, t_span)\n",
    "\n",
    "# plot\n",
    "colors=['tab:cyan', 'tab:pink', 'tab:olive']\n",
    "plt.figure(figsize=(8,8));\n",
    "plt.plot(V_range,V_null_n,colors[0]);\n",
    "plt.plot(V_range,n_null_n,colors[1]);\n",
    "plt.plot(X[:,0],X[:,1],colors[2]);\n",
    "plt.plot(X[-1,0],X[-1,1],'sk');\n",
    "plt.plot(X[0,0],X[0,1],'ok');\n",
    "plt.ylim([-0.3,1.0]);\n",
    "plt.xlabel('V (mV)');\n",
    "plt.ylabel('n');\n",
    "plt.legend(['dV/dt=0','dn/dt=0']);\n",
    "plt.title('Morris Lecar phase plane for I_ext=%.1f' %I_ext);"
   ]
  },
  {
   "cell_type": "code",
   "execution_count": null,
   "metadata": {},
   "outputs": [],
   "source": []
  },
  {
   "cell_type": "code",
   "execution_count": null,
   "metadata": {},
   "outputs": [],
   "source": []
  }
 ],
 "metadata": {
  "anaconda-cloud": {},
  "kernelspec": {
   "display_name": "Python 3",
   "language": "python",
   "name": "python3"
  },
  "language_info": {
   "codemirror_mode": {
    "name": "ipython",
    "version": 3
   },
   "file_extension": ".py",
   "mimetype": "text/x-python",
   "name": "python",
   "nbconvert_exporter": "python",
   "pygments_lexer": "ipython3",
   "version": "3.7.6"
  }
 },
 "nbformat": 4,
 "nbformat_minor": 1
}
