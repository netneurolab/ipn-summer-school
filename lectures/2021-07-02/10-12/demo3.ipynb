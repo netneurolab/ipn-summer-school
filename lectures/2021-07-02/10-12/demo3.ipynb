{
 "cells": [
  {
   "cell_type": "code",
   "execution_count": null,
   "metadata": {},
   "outputs": [],
   "source": [
    "import warnings\n",
    "warnings.filterwarnings('ignore')"
   ]
  },
  {
   "cell_type": "code",
   "execution_count": null,
   "metadata": {},
   "outputs": [],
   "source": [
    "from __future__ import division\n",
    "import numpy as np\n",
    "import matplotlib.pyplot as plt\n",
    "from mpl_toolkits import mplot3d\n",
    "\n",
    "%matplotlib notebook"
   ]
  },
  {
   "cell_type": "markdown",
   "metadata": {},
   "source": [
    "# The unforced Duffing oscillator \n",
    "\n",
    "<p align=\"center\">\n",
    "<img src=\"Imgs/unforced_duffing.png\" alt=\"terms\" width=\"300\"/>\n",
    "</p>"
   ]
  },
  {
   "cell_type": "code",
   "execution_count": null,
   "metadata": {},
   "outputs": [],
   "source": [
    "# Duffing Oscillator\n",
    "def Duff(x,y,delta):\n",
    "    dx = y\n",
    "    dy = x-np.power(x,3)-delta*y \n",
    "    return dx,dy\n",
    "\n",
    "# plot\n",
    "delta = 0.5\n",
    "F = lambda x,y: Duff(x,y,delta)"
   ]
  },
  {
   "cell_type": "markdown",
   "metadata": {},
   "source": [
    "## Visualizing the vector field"
   ]
  },
  {
   "cell_type": "code",
   "execution_count": null,
   "metadata": {
    "scrolled": false
   },
   "outputs": [],
   "source": [
    "# function that plots the vector field of 2D continuous Dynamical Systems\n",
    "def VectorField(F,xlim=[-2,2],ylim=[-2,2],dquiver=0.1):\n",
    "    \n",
    "    plt.figure(figsize=(6,6))\n",
    "    X, Y = np.meshgrid(np.arange(xlim[0],xlim[1],dquiver), np.arange(ylim[0],ylim[1],dquiver))\n",
    "    dX, dY = F(X,Y)\n",
    "    \n",
    "    plt.quiver(X, Y, dX, dY, units='width')\n",
    "    plt.xlim(xlim)\n",
    "    plt.ylim(ylim)\n",
    "\n",
    "    \n",
    "# plot vector field\n",
    "VectorField(F)"
   ]
  },
  {
   "cell_type": "markdown",
   "metadata": {},
   "source": [
    "## Stability analysis"
   ]
  },
  {
   "cell_type": "markdown",
   "metadata": {},
   "source": [
    "### Fixed point (0,0)"
   ]
  },
  {
   "cell_type": "code",
   "execution_count": null,
   "metadata": {},
   "outputs": [],
   "source": [
    "Df = [[0, 1], [1, -delta]]\n",
    "lambdas,_ = np.linalg.eig(Df)\n",
    "\n",
    "print(f\"The eigenvalues of the Jacobian evaluated at (0,0) are: {lambdas}\")"
   ]
  },
  {
   "cell_type": "markdown",
   "metadata": {},
   "source": [
    "### Fixed point (1,0)"
   ]
  },
  {
   "cell_type": "code",
   "execution_count": null,
   "metadata": {},
   "outputs": [],
   "source": [
    "Df = [[0, 1], [-2, -delta]]\n",
    "lambdas,_ = np.linalg.eig(Df)\n",
    "\n",
    "print(f\"The eigenvalues of the Jacobian evaluated at (1,0) are: {lambdas}\")"
   ]
  },
  {
   "cell_type": "markdown",
   "metadata": {},
   "source": [
    "### Fixed point (-1,0)"
   ]
  },
  {
   "cell_type": "code",
   "execution_count": null,
   "metadata": {},
   "outputs": [],
   "source": [
    "Df = [[0, 1], [-2, -delta]]\n",
    "lambdas,_ = np.linalg.eig(Df)\n",
    "\n",
    "print(f\"The eigenvalues of the Jacobian evaluated at (-1,0) are: {lambdas}\")"
   ]
  },
  {
   "cell_type": "code",
   "execution_count": null,
   "metadata": {},
   "outputs": [],
   "source": [
    "# function to help plot 2D solutions of continuous Dynamical Systems\n",
    "def MultiPhasePlot(F,IC,dt=0.001,t_max=50,quiver=True,xlim=[-2,2],ylim=[-2,2],dquiver=0.1):\n",
    "    \"\"\"\n",
    "    Returns the numerically integrated (euler method) solutions of 2D dX/dt = F(X) for all initial conditions in list IC.\n",
    "    F must be a R^2-->R^2 vector field of the form dx,dy = F(x,y).\n",
    "    \"\"\"\n",
    "    num_steps = int(t_max/dt)\n",
    "    Traj = []\n",
    "    for ic in IC:\n",
    "        traj = np.ndarray([num_steps,2],dtype=float) #container for solution\n",
    "        traj[0,0], traj[0,1] = ic[0], ic[1]\n",
    "        for t in range(1,num_steps): #euler integration\n",
    "            traj[t,:] = traj[t-1,:]+dt*np.array(F(traj[t-1,0],traj[t-1,1]))\n",
    "        Traj.append(traj)\n",
    "    \n",
    "    # plot\n",
    "    plt.figure()\n",
    "    for traj in Traj:\n",
    "        plt.plot(traj[:,0],traj[:,1])\n",
    "        plt.plot(traj[0,0],traj[0,1],'k.')\n",
    "    if quiver:\n",
    "        X, Y = np.meshgrid(np.arange(xlim[0],xlim[1],dquiver), np.arange(ylim[0],ylim[1],dquiver))\n",
    "        dX, dY = F(X,Y)\n",
    "        plt.quiver(X, Y, dX, dY, units='width')\n",
    "    plt.xlim(xlim)\n",
    "    plt.ylim(ylim)"
   ]
  },
  {
   "cell_type": "code",
   "execution_count": null,
   "metadata": {
    "scrolled": false
   },
   "outputs": [],
   "source": [
    "# Trajectories in phase space\n",
    "IC = [[-.5,-.5],[.5,.5],[-.1,0.],[.1,0],[0.001,0]]\n",
    "MultiPhasePlot(F,IC,quiver=True)"
   ]
  },
  {
   "cell_type": "markdown",
   "metadata": {},
   "source": [
    "## Basins of Attraction"
   ]
  },
  {
   "cell_type": "code",
   "execution_count": null,
   "metadata": {},
   "outputs": [],
   "source": [
    "IC = [[1.01,x] for x in np.linspace(-5,5,20)]\n",
    "F = lambda x,y: Duff(x,y,delta)\n",
    "MultiPhasePlot(F,IC,xlim=[-5,5],ylim=[-5,5],quiver=False)\n",
    "\n",
    "# IC = [[1.01,x] for x in np.linspace(-100,100,20)]\n",
    "# F = lambda x,y: Duff(x,y,delta)\n",
    "# MultiPhasePlot(F,IC,xlim=[-15,15],ylim=[-120,120],quiver=False)"
   ]
  },
  {
   "cell_type": "markdown",
   "metadata": {},
   "source": [
    "# Intro to bifurcation theory! \n",
    "\n",
    "Bifurcation theory concerns the analysis of the sensitivity of the dynamics of a system with respect to its parameters! "
   ]
  },
  {
   "cell_type": "markdown",
   "metadata": {},
   "source": [
    "##   Case 1: delta > 0\n",
    "\n",
    "<p align=\"center\">\n",
    "<img src=\"Imgs/unforced_duffing.png\" alt=\"terms\" width=\"300\"/>\n",
    "</p>"
   ]
  },
  {
   "cell_type": "code",
   "execution_count": null,
   "metadata": {
    "scrolled": false
   },
   "outputs": [],
   "source": [
    "def Duff(x,y,delta):\n",
    "    dx = y\n",
    "    dy = x-np.power(x,3)-delta*y \n",
    "    return dx,dy\n",
    "\n",
    "# plot\n",
    "delta = 0.5\n",
    "F = lambda x,y: Duff(x,y,delta)\n",
    "\n",
    "IC = [[-.5,-.5],[.5,.5],[-.1,0.],[.1,0],[0.001,0],[0, -0.001]]\n",
    "MultiPhasePlot(F,IC,xlim=[-1.5,1.5],ylim=[-1.5,1.5],quiver=False)\n",
    "\n",
    "# Eigenvalues\n",
    "Df = [[0, 1], [1, -delta]]\n",
    "lambdas,_ = np.linalg.eig(Df)\n",
    "print(f\"The eigenvalues of the Jacobian evaluated at (0,0) are: {lambdas}\")\n",
    "\n",
    "Df = [[0, 1], [-2, -delta]]\n",
    "lambdas,_ = np.linalg.eig(Df)\n",
    "print(f\"The eigenvalues of the Jacobian evaluated at (1,0) are: {lambdas}\")\n",
    "\n",
    "Df = [[0, 1], [-2, -delta]]\n",
    "lambdas,_ = np.linalg.eig(Df)\n",
    "print(f\"The eigenvalues of the Jacobian evaluated at (-1,0) are: {lambdas}\")"
   ]
  },
  {
   "cell_type": "markdown",
   "metadata": {},
   "source": [
    "##   case 2: delta < 0\n",
    "\n",
    "<p align=\"center\">\n",
    "<img src=\"Imgs/unforced_duffing2.png\" alt=\"terms\" width=\"300\"/>\n",
    "</p>"
   ]
  },
  {
   "cell_type": "code",
   "execution_count": null,
   "metadata": {
    "scrolled": false
   },
   "outputs": [],
   "source": [
    "def Duff(x,y,delta):\n",
    "    dx = y\n",
    "    dy = x-np.power(x,3)-delta*y \n",
    "    return dx,dy\n",
    "\n",
    "# plot\n",
    "delta = -0.5\n",
    "F = lambda x,y: Duff(x,y,delta)\n",
    "\n",
    "IC = [[-.5,-.5],[.5,.5],[-.1,0.],[.1,0],[0.001,0],[0, -0.001]]\n",
    "MultiPhasePlot(F,IC,t_max=10,xlim=[-2,2],ylim=[-2,2],quiver=False)\n",
    "\n",
    "# IC = [[1.01,x] for x in np.linspace(-100,100,20)]\n",
    "# MultiPhasePlot(F,IC,xlim=[-15,15],ylim=[-120,120],quiver=False)\n",
    "\n",
    "# Eigenvalues\n",
    "Df = [[0, 1], [1, -delta]]\n",
    "lambdas,_ = np.linalg.eig(Df)\n",
    "print(f\"The eigenvalues of the Jacobian evaluated at (0,0) are: {lambdas}\")\n",
    "\n",
    "Df = [[0, 1], [-2, -delta]]\n",
    "lambdas,_ = np.linalg.eig(Df)\n",
    "print(f\"The eigenvalues of the Jacobian evaluated at (1,0) are: {lambdas}\")\n",
    "\n",
    "Df = [[0, 1], [-2, -delta]]\n",
    "lambdas,_ = np.linalg.eig(Df)\n",
    "print(f\"The eigenvalues of the Jacobian evaluated at (-1,0) are: {lambdas}\")"
   ]
  },
  {
   "cell_type": "code",
   "execution_count": null,
   "metadata": {},
   "outputs": [],
   "source": []
  }
 ],
 "metadata": {
  "anaconda-cloud": {},
  "kernelspec": {
   "display_name": "Python 3",
   "language": "python",
   "name": "python3"
  },
  "language_info": {
   "codemirror_mode": {
    "name": "ipython",
    "version": 3
   },
   "file_extension": ".py",
   "mimetype": "text/x-python",
   "name": "python",
   "nbconvert_exporter": "python",
   "pygments_lexer": "ipython3",
   "version": "3.7.6"
  }
 },
 "nbformat": 4,
 "nbformat_minor": 1
}
