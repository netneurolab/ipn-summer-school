{
 "cells": [
  {
   "cell_type": "code",
   "execution_count": null,
   "metadata": {},
   "outputs": [],
   "source": [
    "# Let's keep our notebook clean, so it's a little more readable!\n",
    "import warnings\n",
    "warnings.filterwarnings('ignore')"
   ]
  },
  {
   "cell_type": "code",
   "execution_count": null,
   "metadata": {},
   "outputs": [],
   "source": [
    "from __future__ import division\n",
    "\n",
    "import numpy as np\n",
    "import matplotlib.pyplot as plt\n",
    "from mpl_toolkits import mplot3d\n",
    "\n",
    "%matplotlib notebook\n",
    "# %matplotlib inline"
   ]
  },
  {
   "cell_type": "markdown",
   "metadata": {},
   "source": [
    "# A simple 3D linear system\n",
    "\n",
    "Remember, linear dynamical systems are characterized by the **additive** relationship between state variables!\n",
    "\n",
    "As you already know, linear dynamical systems have the generic exponential solution. But just to illustrate, we are going to use a numerical integration method known as the **Euler method**:\n",
    "\n",
    "\n",
    "<p align=\"center\">\n",
    "<img src=\"Imgs/euler.png\" alt=\"terms\" width=\"200\"/>\n",
    "</p>"
   ]
  },
  {
   "cell_type": "code",
   "execution_count": null,
   "metadata": {},
   "outputs": [],
   "source": [
    "def Integrate3D(F,IC,dt=0.001,t_max=5):\n",
    "    \"\"\"\n",
    "    Returns the numerically integrated (euler method) solutions of 3D dX/dt = F(X) for all initial conditions in list IC.\n",
    "    F must be a R^3-->R^3 vector field of the form dx,dy = F(x,y).\n",
    "    \"\"\"\n",
    "    num_steps = int(t_max/dt)\n",
    "    Traj = []\n",
    "    for ic in IC:\n",
    "        traj = np.ndarray([num_steps,3],dtype=float) #container for solution\n",
    "        traj[0,:] = np.array(ic)\n",
    "        for t in range(1,num_steps): #euler integration\n",
    "            traj[t,:] = traj[t-1,:]+dt*F(traj[t-1,:])\n",
    "        \n",
    "        Traj.append(traj)\n",
    "        \n",
    "    return Traj\n",
    "\n",
    "\n",
    "def PlotTrajectory(Traj):\n",
    "    # Plot trajectories in time\n",
    "    fig = plt.figure()\n",
    "    ax = plt.axes()\n",
    "    \n",
    "    for traj in Traj:\n",
    "        ax.plot(traj[:,0], label='x1')\n",
    "        ax.plot(traj[:,1], label='x2') \n",
    "        ax.plot(traj[:,2], label='x3')\n",
    "    \n",
    "    plt.legend()\n",
    "    ax.set_xlabel('time steps')\n",
    "    ax.set_ylabel('x')\n",
    "        \n",
    "    \n",
    "def PhasePortrait3D(Traj):    \n",
    "    \n",
    "    # Plot phase portrait\n",
    "    fig = plt.figure()\n",
    "    ax = plt.axes(projection='3d')\n",
    "    colors=['tab:cyan', 'tab:pink', 'tab:olive']\n",
    "    for i, traj in enumerate(Traj):\n",
    "        ax.plot3D(traj[:1,0],traj[:1,1],traj[:1,2],'k.')\n",
    "        ax.plot3D(traj[:,0], traj[:,1],traj[:,2], c=colors[i], label=f'IC-{i}')\n",
    "    ax.set_xlabel('x1')\n",
    "    ax.set_ylabel('x2')\n",
    "    ax.set_zlabel('x3')\n",
    "    plt.legend()\n",
    "    "
   ]
  },
  {
   "cell_type": "markdown",
   "metadata": {},
   "source": [
    "## System equations\n",
    "\n",
    "We are going to start with a simple linear dynamical system in 3D.\n",
    "\n",
    "<p align=\"center\">\n",
    "<img src=\"Imgs/3d_linear.png\" alt=\"terms\" width=\"500\"/>\n",
    "</p>"
   ]
  },
  {
   "cell_type": "code",
   "execution_count": null,
   "metadata": {},
   "outputs": [],
   "source": [
    "# system params\n",
    "A = np.array([[-1,-2,0],[2,-1,0],[0,0,-1]])\n",
    "F = lambda X: np.dot(A,X)\n",
    "\n",
    "# plot\n",
    "IC = [[-1,-1,1]]\n",
    "# IC = [[1, 1, 1]]\n",
    "# IC = [[1, -1, -1]] \n",
    "# IC = [[0,0,0]]\n",
    "\n",
    "Traj = Integrate3D(F,IC)\n",
    "PlotTrajectory(Traj)"
   ]
  },
  {
   "cell_type": "markdown",
   "metadata": {},
   "source": [
    "## The phase portrait\n",
    "\n",
    "The phase portrait depicts the trajectory of the system parameterized by time. It is very useful to analyze the behavior of the system as a whole. However, it does not work for high-dimensional systems (n>3). "
   ]
  },
  {
   "cell_type": "code",
   "execution_count": null,
   "metadata": {
    "scrolled": false
   },
   "outputs": [],
   "source": [
    "# system params\n",
    "A = np.array([[-1,-2,0],[2,-1,0],[0,0,-1]])\n",
    "IC = [[-1,-1,1.],[1.,1.,1.],[1.,-1.,-1.]] \n",
    "\n",
    "# phase portrait/diagram\n",
    "F = lambda X: np.dot(A,X)\n",
    "Traj = Integrate3D(F,IC)\n",
    "PhasePortrait3D(Traj)"
   ]
  },
  {
   "cell_type": "code",
   "execution_count": null,
   "metadata": {},
   "outputs": [],
   "source": []
  }
 ],
 "metadata": {
  "kernelspec": {
   "display_name": "Python 3",
   "language": "python",
   "name": "python3"
  },
  "language_info": {
   "codemirror_mode": {
    "name": "ipython",
    "version": 3
   },
   "file_extension": ".py",
   "mimetype": "text/x-python",
   "name": "python",
   "nbconvert_exporter": "python",
   "pygments_lexer": "ipython3",
   "version": "3.7.6"
  }
 },
 "nbformat": 4,
 "nbformat_minor": 4
}
