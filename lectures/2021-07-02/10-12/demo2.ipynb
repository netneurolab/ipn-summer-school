{
 "cells": [
  {
   "cell_type": "code",
   "execution_count": null,
   "metadata": {},
   "outputs": [],
   "source": [
    "# Let's keep our notebook clean, so it's a little more readable!\n",
    "import warnings\n",
    "warnings.filterwarnings('ignore')"
   ]
  },
  {
   "cell_type": "code",
   "execution_count": null,
   "metadata": {},
   "outputs": [],
   "source": [
    "from __future__ import division\n",
    "\n",
    "import numpy as np\n",
    "import matplotlib.pyplot as plt\n",
    "from mpl_toolkits import mplot3d\n",
    "\n",
    "%matplotlib notebook\n",
    "# %matplotlib inline"
   ]
  },
  {
   "cell_type": "markdown",
   "metadata": {},
   "source": [
    "# Linear Systems (2D)\n",
    "\n",
    "<img src=\"Imgs/linear_2D.png\" alt=\"terms\" width=\"300\"/>"
   ]
  },
  {
   "cell_type": "code",
   "execution_count": null,
   "metadata": {},
   "outputs": [],
   "source": [
    "def Integrate2D(F,IC,dt=0.001,t_max=10,quiver=True,xlim=[-2,2],ylim=[-2,2],dquiver=0.1):\n",
    "    \"\"\"\n",
    "    Returns the numerically integrated (euler method) solutions of 2D dX/dt = F(X) for all initial conditions in list IC.\n",
    "    F must be a R^2-->R^2 vector field of the form dx,dy = F(x,y).\n",
    "    \"\"\"\n",
    "    num_steps = int(t_max/dt)\n",
    "    Traj = []\n",
    "    for ic in IC:\n",
    "        traj = np.ndarray([num_steps,2],dtype=float) #container for solution\n",
    "        traj[0,0], traj[0,1] = ic[0], ic[1]\n",
    "        for t in range(1,num_steps): #euler integration\n",
    "            traj[t,:] = traj[t-1,:]+dt*np.array(F(traj[t-1,0],traj[t-1,1]))\n",
    "        Traj.append(traj)\n",
    "        \n",
    "    # plot \n",
    "    fig = plt.figure(figsize=(10,5))\n",
    "    \n",
    "    # Plot trajectories in time\n",
    "    ax = plt.subplot(121)\n",
    "    for i,traj in enumerate(Traj):\n",
    "        ax.plot(traj[:,0])\n",
    "        ax.plot(traj[:,1]) \n",
    "    \n",
    "    ax.set_xlabel('time steps')\n",
    "    ax.set_ylabel('x')\n",
    "\n",
    "    ax = plt.subplot(122)\n",
    "    for i, traj in enumerate(Traj):\n",
    "        plt.plot(traj[:,0],traj[:,1])\n",
    "        plt.plot(traj[0,0],traj[0,1],'k.')\n",
    "    \n",
    "    ax.set_xlabel('x1')\n",
    "    ax.set_ylabel('x2')\n",
    "\n",
    "    # Plot phase portratit\n",
    "    if quiver:\n",
    "        X1, X2 = np.meshgrid(np.arange(xlim[0],xlim[1],dquiver), np.arange(ylim[0],ylim[1],dquiver))\n",
    "        dX1, dX2 = F(X1,X2)\n",
    "        plt.quiver(X1, X2, dX1, dX2, units='width')\n",
    "    plt.xlim(xlim)\n",
    "    plt.ylim(ylim)\n",
    "\n",
    "    \n",
    "def vector_field_2D(A):\n",
    "    def system2D(x1,x2):\n",
    "        dx1 = A[0][0]*x1 + A[0][1]*x2\n",
    "        dx2 = A[1][0]*x1 + A[1][1]*x2\n",
    "        return dx1, dx2\n",
    "\n",
    "    return lambda x1,x2: system2D(x1,x2)"
   ]
  },
  {
   "cell_type": "markdown",
   "metadata": {},
   "source": [
    "# Stability Analysis - Linear Systems (2D)\n",
    "\n",
    "<img src=\"Imgs/linear_stability_2D_.png\" alt=\"terms\" width=\"800\"/>\n",
    "\n",
    "Blue: asymptotically stable\n",
    "\n",
    "Pink: unstable\n",
    "\n",
    "Orange: Lyapunov stable (limit cycles)\n",
    "\n",
    "Figure adapted from: https://upload.wikimedia.org/wikipedia/commons/3/3b/Stability_Diagram.png"
   ]
  },
  {
   "cell_type": "markdown",
   "metadata": {},
   "source": [
    "## Saddle (unstable)"
   ]
  },
  {
   "cell_type": "code",
   "execution_count": null,
   "metadata": {
    "scrolled": false
   },
   "outputs": [],
   "source": [
    "A = np.array([[1,2],[1,-1]])\n",
    "F = vector_field_2D(A)\n",
    "\n",
    "# plot\n",
    "IC = [[-1.5, 1.5], [-1.2, 1.5], [-0.5,1.5], [-0.9, 1.5], [1.5,-1.5], [1.8,-1.5], [1.0,-1.5], [0.5,-1.5], [0.0001,-0.0001], [-0.0001,0.0001], [0,0]]\n",
    "Integrate2D(F,IC, t_max=20)\n",
    "\n",
    "evals, _ = np.linalg.eig(A)\n",
    "print(f'The eigenvalues of the system are: {evals}')"
   ]
  },
  {
   "cell_type": "markdown",
   "metadata": {},
   "source": [
    "## Center (Lyapunov stable)"
   ]
  },
  {
   "cell_type": "code",
   "execution_count": null,
   "metadata": {},
   "outputs": [],
   "source": [
    "A = np.array([[0,2],[-2,0]])\n",
    "F = vector_field_2D(A)\n",
    "\n",
    "# plot\n",
    "IC = [[0.5, 0.5], [-1,1], [-1,0], [1.2,-1.2], [0.2,0], [0., 0.]]\n",
    "Integrate2D(F,IC, t_max=5)\n",
    "\n",
    "evals, _ = np.linalg.eig(A)\n",
    "print(f'The eigenvalues of the system are: {evals}')"
   ]
  },
  {
   "cell_type": "markdown",
   "metadata": {},
   "source": [
    "## Degenerate Sink (stable)"
   ]
  },
  {
   "cell_type": "code",
   "execution_count": null,
   "metadata": {},
   "outputs": [],
   "source": [
    "A = np.array([[-2,1],[-1,0]])\n",
    "F = vector_field_2D(A)\n",
    "\n",
    "# plot\n",
    "IC = [[-1.5,-1.0], [-1.5,0.0], [-1.5,1.0], [1.5,-0.5], [1.5, 1.0], [1.5,-1.5]]\n",
    "Integrate2D(F,IC, t_max=7)\n",
    "\n",
    "evals, _ = np.linalg.eig(A)\n",
    "print(f'The eigenvalues of the system are: {evals}')"
   ]
  },
  {
   "cell_type": "markdown",
   "metadata": {},
   "source": [
    "## Spiral Sink (stable)"
   ]
  },
  {
   "cell_type": "code",
   "execution_count": null,
   "metadata": {},
   "outputs": [],
   "source": [
    "A = np.array([[-2,1],[-3,0.5]])\n",
    "F = vector_field_2D(A)\n",
    "\n",
    "# plot\n",
    "IC = [[-1.5,-1.0], [-1.5,0.0], [-1.5,1.0], [1.5,-0.5], [1.5, 1.0], [1.5,-1.5]]\n",
    "Integrate2D(F,IC, t_max=7)\n",
    "\n",
    "evals, _ = np.linalg.eig(A)\n",
    "print(f'The eigenvalues of the system are: {evals}')"
   ]
  },
  {
   "cell_type": "markdown",
   "metadata": {},
   "source": [
    "## Spiral Source (unstable)"
   ]
  },
  {
   "cell_type": "code",
   "execution_count": null,
   "metadata": {},
   "outputs": [],
   "source": [
    "A = np.array([[0,2],[-2,1]])\n",
    "F = vector_field_2D(A)\n",
    "\n",
    "# plot\n",
    "IC = [[0.1, 0], [-0.1, 0], [0,0.1], [0, -0.1], [0,0]]\n",
    "Integrate2D(F,IC, t_max=7)\n",
    "\n",
    "evals, _ = np.linalg.eig(A)\n",
    "print(f'The eigenvalues of the system are: {evals}')"
   ]
  },
  {
   "cell_type": "markdown",
   "metadata": {},
   "source": [
    "## Line of (stable) fixed points"
   ]
  },
  {
   "cell_type": "code",
   "execution_count": null,
   "metadata": {},
   "outputs": [],
   "source": [
    "A = np.array([[-2,-1],[-2,-1]])\n",
    "F = vector_field_2D(A)\n",
    "\n",
    "# plot\n",
    "IC = [[2, 0], [-2, 0], [0,2], [0, -2], [1,1], [-1,-1], [0,0], [-0.5,0.5], [0.5,-0.5], [-0.5, -0.2]]\n",
    "Integrate2D(F,IC, t_max=10)\n",
    "\n",
    "evals, _ = np.linalg.eig(A)\n",
    "print(f'The eigenvalues of the system are: {evals}')"
   ]
  }
 ],
 "metadata": {
  "kernelspec": {
   "display_name": "Python 3",
   "language": "python",
   "name": "python3"
  },
  "language_info": {
   "codemirror_mode": {
    "name": "ipython",
    "version": 3
   },
   "file_extension": ".py",
   "mimetype": "text/x-python",
   "name": "python",
   "nbconvert_exporter": "python",
   "pygments_lexer": "ipython3",
   "version": "3.7.6"
  }
 },
 "nbformat": 4,
 "nbformat_minor": 4
}
