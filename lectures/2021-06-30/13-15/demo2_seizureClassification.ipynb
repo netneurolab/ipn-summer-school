{
  "nbformat": 4,
  "nbformat_minor": 0,
  "metadata": {
    "colab": {
      "name": "demo2_seizureClassification.ipynb",
      "provenance": [],
      "collapsed_sections": []
    },
    "kernelspec": {
      "name": "python3",
      "display_name": "Python 3"
    },
    "language_info": {
      "name": "python"
    }
  },
  "cells": [
    {
      "cell_type": "markdown",
      "metadata": {
        "id": "bwfHj2daHce6"
      },
      "source": [
        "\n",
        "# **Seizure time-series data classification**\n",
        "\n",
        "\n",
        "\n"
      ]
    },
    {
      "cell_type": "markdown",
      "metadata": {
        "id": "sfmHN5BJDuLm"
      },
      "source": [
        "**Objectuve:** Classify time-series from EEG recordings to binary classes of *Seizure* (class 1) and *Normal* (class 0).\n",
        "\n",
        "**Classification algorithms:** Popular algorithms that can be used for binary classification include:\n",
        "\n",
        "\n",
        "*   K-Nearest Neighbors\n",
        "*   Logistic Regression\n",
        "*   Naive Bayes\n",
        "*   Decision Trees\n",
        "*   Support Vector Machine"
      ]
    },
    {
      "cell_type": "markdown",
      "metadata": {
        "id": "Jcje08lNlvlx"
      },
      "source": [
        "# **Load the data**"
      ]
    },
    {
      "cell_type": "code",
      "metadata": {
        "id": "HMvGfVRp3Pyk"
      },
      "source": [
        "# Hide warnings\n",
        "import warnings\n",
        "warnings.filterwarnings('ignore')"
      ],
      "execution_count": 1,
      "outputs": []
    },
    {
      "cell_type": "code",
      "metadata": {
        "colab": {
          "base_uri": "https://localhost:8080/"
        },
        "id": "R_rjkcyrHZgu",
        "outputId": "899f6ef9-91cd-4d84-b904-d04ef64400c6"
      },
      "source": [
        "# Mount google drive to use with google colab\n",
        "from google.colab import drive\n",
        "drive.mount('/content/drive')\n",
        "%cd /content/drive/MyDrive/Colab Notebooks/TimeSeriesAnalysis/\n",
        "%ls"
      ],
      "execution_count": 2,
      "outputs": [
        {
          "output_type": "stream",
          "text": [
            "Mounted at /content/drive\n",
            "/content/drive/MyDrive/Colab Notebooks/TimeSeriesAnalysis\n",
            "demo1_ARmodel.ipynb  demo2_seizureClassification.ipynb  epilepsy.csv\n"
          ],
          "name": "stdout"
        }
      ]
    },
    {
      "cell_type": "code",
      "metadata": {
        "colab": {
          "base_uri": "https://localhost:8080/",
          "height": 253
        },
        "id": "lB1Zm_cfHpig",
        "outputId": "3b4b0938-618a-4633-90cb-340a14138739"
      },
      "source": [
        "# Import data using pandas\n",
        "import pandas as pd\n",
        "df = pd.read_csv('./epilepsy.csv')\n",
        "df.head()"
      ],
      "execution_count": 3,
      "outputs": [
        {
          "output_type": "execute_result",
          "data": {
            "text/html": [
              "<div>\n",
              "<style scoped>\n",
              "    .dataframe tbody tr th:only-of-type {\n",
              "        vertical-align: middle;\n",
              "    }\n",
              "\n",
              "    .dataframe tbody tr th {\n",
              "        vertical-align: top;\n",
              "    }\n",
              "\n",
              "    .dataframe thead th {\n",
              "        text-align: right;\n",
              "    }\n",
              "</style>\n",
              "<table border=\"1\" class=\"dataframe\">\n",
              "  <thead>\n",
              "    <tr style=\"text-align: right;\">\n",
              "      <th></th>\n",
              "      <th>X1</th>\n",
              "      <th>X2</th>\n",
              "      <th>X3</th>\n",
              "      <th>X4</th>\n",
              "      <th>X5</th>\n",
              "      <th>X6</th>\n",
              "      <th>X7</th>\n",
              "      <th>X8</th>\n",
              "      <th>X9</th>\n",
              "      <th>X10</th>\n",
              "      <th>X11</th>\n",
              "      <th>X12</th>\n",
              "      <th>X13</th>\n",
              "      <th>X14</th>\n",
              "      <th>X15</th>\n",
              "      <th>X16</th>\n",
              "      <th>X17</th>\n",
              "      <th>X18</th>\n",
              "      <th>X19</th>\n",
              "      <th>X20</th>\n",
              "      <th>X21</th>\n",
              "      <th>X22</th>\n",
              "      <th>X23</th>\n",
              "      <th>X24</th>\n",
              "      <th>X25</th>\n",
              "      <th>X26</th>\n",
              "      <th>X27</th>\n",
              "      <th>X28</th>\n",
              "      <th>X29</th>\n",
              "      <th>X30</th>\n",
              "      <th>X31</th>\n",
              "      <th>X32</th>\n",
              "      <th>X33</th>\n",
              "      <th>X34</th>\n",
              "      <th>X35</th>\n",
              "      <th>X36</th>\n",
              "      <th>X37</th>\n",
              "      <th>X38</th>\n",
              "      <th>X39</th>\n",
              "      <th>X40</th>\n",
              "      <th>...</th>\n",
              "      <th>X140</th>\n",
              "      <th>X141</th>\n",
              "      <th>X142</th>\n",
              "      <th>X143</th>\n",
              "      <th>X144</th>\n",
              "      <th>X145</th>\n",
              "      <th>X146</th>\n",
              "      <th>X147</th>\n",
              "      <th>X148</th>\n",
              "      <th>X149</th>\n",
              "      <th>X150</th>\n",
              "      <th>X151</th>\n",
              "      <th>X152</th>\n",
              "      <th>X153</th>\n",
              "      <th>X154</th>\n",
              "      <th>X155</th>\n",
              "      <th>X156</th>\n",
              "      <th>X157</th>\n",
              "      <th>X158</th>\n",
              "      <th>X159</th>\n",
              "      <th>X160</th>\n",
              "      <th>X161</th>\n",
              "      <th>X162</th>\n",
              "      <th>X163</th>\n",
              "      <th>X164</th>\n",
              "      <th>X165</th>\n",
              "      <th>X166</th>\n",
              "      <th>X167</th>\n",
              "      <th>X168</th>\n",
              "      <th>X169</th>\n",
              "      <th>X170</th>\n",
              "      <th>X171</th>\n",
              "      <th>X172</th>\n",
              "      <th>X173</th>\n",
              "      <th>X174</th>\n",
              "      <th>X175</th>\n",
              "      <th>X176</th>\n",
              "      <th>X177</th>\n",
              "      <th>X178</th>\n",
              "      <th>y</th>\n",
              "    </tr>\n",
              "  </thead>\n",
              "  <tbody>\n",
              "    <tr>\n",
              "      <th>0</th>\n",
              "      <td>135</td>\n",
              "      <td>190</td>\n",
              "      <td>229</td>\n",
              "      <td>223</td>\n",
              "      <td>192</td>\n",
              "      <td>125</td>\n",
              "      <td>55</td>\n",
              "      <td>-9</td>\n",
              "      <td>-33</td>\n",
              "      <td>-38</td>\n",
              "      <td>-10</td>\n",
              "      <td>35</td>\n",
              "      <td>64</td>\n",
              "      <td>113</td>\n",
              "      <td>152</td>\n",
              "      <td>164</td>\n",
              "      <td>127</td>\n",
              "      <td>50</td>\n",
              "      <td>-47</td>\n",
              "      <td>-121</td>\n",
              "      <td>-138</td>\n",
              "      <td>-125</td>\n",
              "      <td>-101</td>\n",
              "      <td>-50</td>\n",
              "      <td>11</td>\n",
              "      <td>39</td>\n",
              "      <td>24</td>\n",
              "      <td>48</td>\n",
              "      <td>64</td>\n",
              "      <td>46</td>\n",
              "      <td>13</td>\n",
              "      <td>-19</td>\n",
              "      <td>-61</td>\n",
              "      <td>-96</td>\n",
              "      <td>-130</td>\n",
              "      <td>-132</td>\n",
              "      <td>-116</td>\n",
              "      <td>-115</td>\n",
              "      <td>-71</td>\n",
              "      <td>-14</td>\n",
              "      <td>...</td>\n",
              "      <td>54</td>\n",
              "      <td>90</td>\n",
              "      <td>111</td>\n",
              "      <td>107</td>\n",
              "      <td>64</td>\n",
              "      <td>32</td>\n",
              "      <td>18</td>\n",
              "      <td>-25</td>\n",
              "      <td>-69</td>\n",
              "      <td>-65</td>\n",
              "      <td>-44</td>\n",
              "      <td>-33</td>\n",
              "      <td>-57</td>\n",
              "      <td>-88</td>\n",
              "      <td>-114</td>\n",
              "      <td>-130</td>\n",
              "      <td>-114</td>\n",
              "      <td>-83</td>\n",
              "      <td>-53</td>\n",
              "      <td>-79</td>\n",
              "      <td>-72</td>\n",
              "      <td>-85</td>\n",
              "      <td>-109</td>\n",
              "      <td>-98</td>\n",
              "      <td>-72</td>\n",
              "      <td>-65</td>\n",
              "      <td>-63</td>\n",
              "      <td>-11</td>\n",
              "      <td>10</td>\n",
              "      <td>8</td>\n",
              "      <td>-17</td>\n",
              "      <td>-15</td>\n",
              "      <td>-31</td>\n",
              "      <td>-77</td>\n",
              "      <td>-103</td>\n",
              "      <td>-127</td>\n",
              "      <td>-116</td>\n",
              "      <td>-83</td>\n",
              "      <td>-51</td>\n",
              "      <td>4</td>\n",
              "    </tr>\n",
              "    <tr>\n",
              "      <th>1</th>\n",
              "      <td>386</td>\n",
              "      <td>382</td>\n",
              "      <td>356</td>\n",
              "      <td>331</td>\n",
              "      <td>320</td>\n",
              "      <td>315</td>\n",
              "      <td>307</td>\n",
              "      <td>272</td>\n",
              "      <td>244</td>\n",
              "      <td>232</td>\n",
              "      <td>237</td>\n",
              "      <td>258</td>\n",
              "      <td>212</td>\n",
              "      <td>2</td>\n",
              "      <td>-267</td>\n",
              "      <td>-605</td>\n",
              "      <td>-850</td>\n",
              "      <td>-1001</td>\n",
              "      <td>-1109</td>\n",
              "      <td>-1090</td>\n",
              "      <td>-967</td>\n",
              "      <td>-746</td>\n",
              "      <td>-464</td>\n",
              "      <td>-152</td>\n",
              "      <td>118</td>\n",
              "      <td>318</td>\n",
              "      <td>427</td>\n",
              "      <td>473</td>\n",
              "      <td>485</td>\n",
              "      <td>447</td>\n",
              "      <td>397</td>\n",
              "      <td>339</td>\n",
              "      <td>312</td>\n",
              "      <td>314</td>\n",
              "      <td>326</td>\n",
              "      <td>335</td>\n",
              "      <td>332</td>\n",
              "      <td>324</td>\n",
              "      <td>310</td>\n",
              "      <td>312</td>\n",
              "      <td>...</td>\n",
              "      <td>27</td>\n",
              "      <td>146</td>\n",
              "      <td>229</td>\n",
              "      <td>269</td>\n",
              "      <td>297</td>\n",
              "      <td>307</td>\n",
              "      <td>303</td>\n",
              "      <td>305</td>\n",
              "      <td>306</td>\n",
              "      <td>307</td>\n",
              "      <td>280</td>\n",
              "      <td>231</td>\n",
              "      <td>159</td>\n",
              "      <td>85</td>\n",
              "      <td>51</td>\n",
              "      <td>43</td>\n",
              "      <td>62</td>\n",
              "      <td>63</td>\n",
              "      <td>63</td>\n",
              "      <td>69</td>\n",
              "      <td>89</td>\n",
              "      <td>123</td>\n",
              "      <td>136</td>\n",
              "      <td>127</td>\n",
              "      <td>102</td>\n",
              "      <td>95</td>\n",
              "      <td>105</td>\n",
              "      <td>131</td>\n",
              "      <td>163</td>\n",
              "      <td>168</td>\n",
              "      <td>164</td>\n",
              "      <td>150</td>\n",
              "      <td>146</td>\n",
              "      <td>152</td>\n",
              "      <td>157</td>\n",
              "      <td>156</td>\n",
              "      <td>154</td>\n",
              "      <td>143</td>\n",
              "      <td>129</td>\n",
              "      <td>1</td>\n",
              "    </tr>\n",
              "    <tr>\n",
              "      <th>2</th>\n",
              "      <td>-32</td>\n",
              "      <td>-39</td>\n",
              "      <td>-47</td>\n",
              "      <td>-37</td>\n",
              "      <td>-32</td>\n",
              "      <td>-36</td>\n",
              "      <td>-57</td>\n",
              "      <td>-73</td>\n",
              "      <td>-85</td>\n",
              "      <td>-94</td>\n",
              "      <td>-99</td>\n",
              "      <td>-94</td>\n",
              "      <td>-96</td>\n",
              "      <td>-104</td>\n",
              "      <td>-103</td>\n",
              "      <td>-92</td>\n",
              "      <td>-75</td>\n",
              "      <td>-69</td>\n",
              "      <td>-69</td>\n",
              "      <td>-53</td>\n",
              "      <td>-37</td>\n",
              "      <td>-14</td>\n",
              "      <td>-10</td>\n",
              "      <td>-39</td>\n",
              "      <td>-78</td>\n",
              "      <td>-102</td>\n",
              "      <td>-98</td>\n",
              "      <td>-80</td>\n",
              "      <td>-54</td>\n",
              "      <td>-40</td>\n",
              "      <td>-35</td>\n",
              "      <td>-39</td>\n",
              "      <td>-32</td>\n",
              "      <td>-13</td>\n",
              "      <td>7</td>\n",
              "      <td>34</td>\n",
              "      <td>41</td>\n",
              "      <td>33</td>\n",
              "      <td>6</td>\n",
              "      <td>-15</td>\n",
              "      <td>...</td>\n",
              "      <td>-82</td>\n",
              "      <td>-107</td>\n",
              "      <td>-126</td>\n",
              "      <td>-124</td>\n",
              "      <td>-108</td>\n",
              "      <td>-84</td>\n",
              "      <td>-68</td>\n",
              "      <td>-61</td>\n",
              "      <td>-56</td>\n",
              "      <td>-63</td>\n",
              "      <td>-62</td>\n",
              "      <td>-33</td>\n",
              "      <td>1</td>\n",
              "      <td>28</td>\n",
              "      <td>45</td>\n",
              "      <td>37</td>\n",
              "      <td>48</td>\n",
              "      <td>62</td>\n",
              "      <td>80</td>\n",
              "      <td>66</td>\n",
              "      <td>23</td>\n",
              "      <td>-11</td>\n",
              "      <td>-39</td>\n",
              "      <td>-44</td>\n",
              "      <td>-42</td>\n",
              "      <td>-45</td>\n",
              "      <td>-48</td>\n",
              "      <td>-42</td>\n",
              "      <td>-6</td>\n",
              "      <td>29</td>\n",
              "      <td>57</td>\n",
              "      <td>64</td>\n",
              "      <td>48</td>\n",
              "      <td>19</td>\n",
              "      <td>-12</td>\n",
              "      <td>-30</td>\n",
              "      <td>-35</td>\n",
              "      <td>-35</td>\n",
              "      <td>-36</td>\n",
              "      <td>5</td>\n",
              "    </tr>\n",
              "    <tr>\n",
              "      <th>3</th>\n",
              "      <td>-105</td>\n",
              "      <td>-101</td>\n",
              "      <td>-96</td>\n",
              "      <td>-92</td>\n",
              "      <td>-89</td>\n",
              "      <td>-95</td>\n",
              "      <td>-102</td>\n",
              "      <td>-100</td>\n",
              "      <td>-87</td>\n",
              "      <td>-79</td>\n",
              "      <td>-72</td>\n",
              "      <td>-68</td>\n",
              "      <td>-74</td>\n",
              "      <td>-80</td>\n",
              "      <td>-83</td>\n",
              "      <td>-73</td>\n",
              "      <td>-68</td>\n",
              "      <td>-61</td>\n",
              "      <td>-58</td>\n",
              "      <td>-59</td>\n",
              "      <td>-64</td>\n",
              "      <td>-79</td>\n",
              "      <td>-84</td>\n",
              "      <td>-97</td>\n",
              "      <td>-94</td>\n",
              "      <td>-84</td>\n",
              "      <td>-77</td>\n",
              "      <td>-75</td>\n",
              "      <td>-72</td>\n",
              "      <td>-68</td>\n",
              "      <td>-76</td>\n",
              "      <td>-76</td>\n",
              "      <td>-72</td>\n",
              "      <td>-67</td>\n",
              "      <td>-69</td>\n",
              "      <td>-69</td>\n",
              "      <td>-69</td>\n",
              "      <td>-67</td>\n",
              "      <td>-68</td>\n",
              "      <td>-69</td>\n",
              "      <td>...</td>\n",
              "      <td>-69</td>\n",
              "      <td>-66</td>\n",
              "      <td>-74</td>\n",
              "      <td>-69</td>\n",
              "      <td>-61</td>\n",
              "      <td>-51</td>\n",
              "      <td>-45</td>\n",
              "      <td>-45</td>\n",
              "      <td>-49</td>\n",
              "      <td>-58</td>\n",
              "      <td>-64</td>\n",
              "      <td>-78</td>\n",
              "      <td>-80</td>\n",
              "      <td>-90</td>\n",
              "      <td>-87</td>\n",
              "      <td>-83</td>\n",
              "      <td>-78</td>\n",
              "      <td>-64</td>\n",
              "      <td>-38</td>\n",
              "      <td>-22</td>\n",
              "      <td>-29</td>\n",
              "      <td>-42</td>\n",
              "      <td>-51</td>\n",
              "      <td>-68</td>\n",
              "      <td>-71</td>\n",
              "      <td>-69</td>\n",
              "      <td>-69</td>\n",
              "      <td>-74</td>\n",
              "      <td>-74</td>\n",
              "      <td>-80</td>\n",
              "      <td>-82</td>\n",
              "      <td>-81</td>\n",
              "      <td>-80</td>\n",
              "      <td>-77</td>\n",
              "      <td>-85</td>\n",
              "      <td>-77</td>\n",
              "      <td>-72</td>\n",
              "      <td>-69</td>\n",
              "      <td>-65</td>\n",
              "      <td>5</td>\n",
              "    </tr>\n",
              "    <tr>\n",
              "      <th>4</th>\n",
              "      <td>-9</td>\n",
              "      <td>-65</td>\n",
              "      <td>-98</td>\n",
              "      <td>-102</td>\n",
              "      <td>-78</td>\n",
              "      <td>-48</td>\n",
              "      <td>-16</td>\n",
              "      <td>0</td>\n",
              "      <td>-21</td>\n",
              "      <td>-59</td>\n",
              "      <td>-90</td>\n",
              "      <td>-103</td>\n",
              "      <td>-84</td>\n",
              "      <td>-43</td>\n",
              "      <td>-9</td>\n",
              "      <td>3</td>\n",
              "      <td>-21</td>\n",
              "      <td>-60</td>\n",
              "      <td>-96</td>\n",
              "      <td>-103</td>\n",
              "      <td>-75</td>\n",
              "      <td>-29</td>\n",
              "      <td>14</td>\n",
              "      <td>55</td>\n",
              "      <td>78</td>\n",
              "      <td>73</td>\n",
              "      <td>28</td>\n",
              "      <td>-13</td>\n",
              "      <td>-43</td>\n",
              "      <td>-68</td>\n",
              "      <td>-78</td>\n",
              "      <td>-75</td>\n",
              "      <td>-55</td>\n",
              "      <td>-41</td>\n",
              "      <td>-19</td>\n",
              "      <td>-20</td>\n",
              "      <td>-29</td>\n",
              "      <td>-36</td>\n",
              "      <td>-20</td>\n",
              "      <td>1</td>\n",
              "      <td>...</td>\n",
              "      <td>38</td>\n",
              "      <td>26</td>\n",
              "      <td>10</td>\n",
              "      <td>-4</td>\n",
              "      <td>-13</td>\n",
              "      <td>-8</td>\n",
              "      <td>0</td>\n",
              "      <td>10</td>\n",
              "      <td>19</td>\n",
              "      <td>29</td>\n",
              "      <td>57</td>\n",
              "      <td>63</td>\n",
              "      <td>45</td>\n",
              "      <td>7</td>\n",
              "      <td>-13</td>\n",
              "      <td>-23</td>\n",
              "      <td>-9</td>\n",
              "      <td>9</td>\n",
              "      <td>11</td>\n",
              "      <td>3</td>\n",
              "      <td>-1</td>\n",
              "      <td>-2</td>\n",
              "      <td>4</td>\n",
              "      <td>18</td>\n",
              "      <td>27</td>\n",
              "      <td>27</td>\n",
              "      <td>14</td>\n",
              "      <td>15</td>\n",
              "      <td>11</td>\n",
              "      <td>10</td>\n",
              "      <td>4</td>\n",
              "      <td>2</td>\n",
              "      <td>-12</td>\n",
              "      <td>-32</td>\n",
              "      <td>-41</td>\n",
              "      <td>-65</td>\n",
              "      <td>-83</td>\n",
              "      <td>-89</td>\n",
              "      <td>-73</td>\n",
              "      <td>5</td>\n",
              "    </tr>\n",
              "  </tbody>\n",
              "</table>\n",
              "<p>5 rows × 179 columns</p>\n",
              "</div>"
            ],
            "text/plain": [
              "    X1   X2   X3   X4   X5   X6   X7  ...  X173  X174  X175  X176  X177  X178  y\n",
              "0  135  190  229  223  192  125   55  ...   -77  -103  -127  -116   -83   -51  4\n",
              "1  386  382  356  331  320  315  307  ...   152   157   156   154   143   129  1\n",
              "2  -32  -39  -47  -37  -32  -36  -57  ...    19   -12   -30   -35   -35   -36  5\n",
              "3 -105 -101  -96  -92  -89  -95 -102  ...   -77   -85   -77   -72   -69   -65  5\n",
              "4   -9  -65  -98 -102  -78  -48  -16  ...   -32   -41   -65   -83   -89   -73  5\n",
              "\n",
              "[5 rows x 179 columns]"
            ]
          },
          "metadata": {
            "tags": []
          },
          "execution_count": 3
        }
      ]
    },
    {
      "cell_type": "markdown",
      "metadata": {
        "id": "_smkcz23tNth"
      },
      "source": [
        "**Data organization:**\n",
        "\n",
        "The original data comes from the reference below:\n",
        "\n",
        "*   Andrzejak RG, Lehnertz K, Rieke C, Mormann F, David P, Elger CE (2001) Indications of nonlinear deterministic and finite dimensional structures in time series of brain electrical activity: Dependence on recording region and brain state, *Phys. Rev. E*, 64, 061907\n",
        "\n",
        "The original dataset from the reference consists of 23.5 seconds of EEG recordings (time-series with 4097 data points) from 500 individuals. We will be using a modified version of the dataset from [UCI Machine Learning Repository](https://archive.ics.uci.edu/ml/datasets/Epileptic+Seizure+Recognition) (also available [here](https://github.com/Mr-Jree/Epileptic-Seizure-Binary-Classification)). \n",
        "\n",
        "In the modified version, each time-series is divided into 23 time-series of 1 second (178 data points) EEG recording. Thus, the original 500 time-series of 23 seconds are transformed to 11500 time-series of 1 second. The new 11500 time-series are the *samples* (rows) and the 178 data points (1 second EEG recording) are the *features* (columns) in our classification analysis. The last column includes the *labels* (dependant variable) and is a categorial variable (1, 2, 3, 4, 5). The categories correspond to: (1) seizure activity; (2, 3) patient has a tumor; (4, 5) eyes open/closed during recording.\n",
        "\n",
        "Since we are only interested in seizure classification against the rest, we will modify the labels to: (1) seizure and (0) no-seizure classes."
      ]
    },
    {
      "cell_type": "code",
      "metadata": {
        "colab": {
          "base_uri": "https://localhost:8080/",
          "height": 253
        },
        "id": "GS4EnYVYIWZC",
        "outputId": "23eb11e0-7533-40b9-ff6a-af8748e23dc4"
      },
      "source": [
        "# Modify labels to binary classes (1 indicates seizure)\n",
        "df['binaryLabel'] = df.y == 1 \n",
        "df['binaryLabel'] = df['binaryLabel'].astype(int)\n",
        "df.pop('y')\n",
        "df.head()"
      ],
      "execution_count": 4,
      "outputs": [
        {
          "output_type": "execute_result",
          "data": {
            "text/html": [
              "<div>\n",
              "<style scoped>\n",
              "    .dataframe tbody tr th:only-of-type {\n",
              "        vertical-align: middle;\n",
              "    }\n",
              "\n",
              "    .dataframe tbody tr th {\n",
              "        vertical-align: top;\n",
              "    }\n",
              "\n",
              "    .dataframe thead th {\n",
              "        text-align: right;\n",
              "    }\n",
              "</style>\n",
              "<table border=\"1\" class=\"dataframe\">\n",
              "  <thead>\n",
              "    <tr style=\"text-align: right;\">\n",
              "      <th></th>\n",
              "      <th>X1</th>\n",
              "      <th>X2</th>\n",
              "      <th>X3</th>\n",
              "      <th>X4</th>\n",
              "      <th>X5</th>\n",
              "      <th>X6</th>\n",
              "      <th>X7</th>\n",
              "      <th>X8</th>\n",
              "      <th>X9</th>\n",
              "      <th>X10</th>\n",
              "      <th>X11</th>\n",
              "      <th>X12</th>\n",
              "      <th>X13</th>\n",
              "      <th>X14</th>\n",
              "      <th>X15</th>\n",
              "      <th>X16</th>\n",
              "      <th>X17</th>\n",
              "      <th>X18</th>\n",
              "      <th>X19</th>\n",
              "      <th>X20</th>\n",
              "      <th>X21</th>\n",
              "      <th>X22</th>\n",
              "      <th>X23</th>\n",
              "      <th>X24</th>\n",
              "      <th>X25</th>\n",
              "      <th>X26</th>\n",
              "      <th>X27</th>\n",
              "      <th>X28</th>\n",
              "      <th>X29</th>\n",
              "      <th>X30</th>\n",
              "      <th>X31</th>\n",
              "      <th>X32</th>\n",
              "      <th>X33</th>\n",
              "      <th>X34</th>\n",
              "      <th>X35</th>\n",
              "      <th>X36</th>\n",
              "      <th>X37</th>\n",
              "      <th>X38</th>\n",
              "      <th>X39</th>\n",
              "      <th>X40</th>\n",
              "      <th>...</th>\n",
              "      <th>X140</th>\n",
              "      <th>X141</th>\n",
              "      <th>X142</th>\n",
              "      <th>X143</th>\n",
              "      <th>X144</th>\n",
              "      <th>X145</th>\n",
              "      <th>X146</th>\n",
              "      <th>X147</th>\n",
              "      <th>X148</th>\n",
              "      <th>X149</th>\n",
              "      <th>X150</th>\n",
              "      <th>X151</th>\n",
              "      <th>X152</th>\n",
              "      <th>X153</th>\n",
              "      <th>X154</th>\n",
              "      <th>X155</th>\n",
              "      <th>X156</th>\n",
              "      <th>X157</th>\n",
              "      <th>X158</th>\n",
              "      <th>X159</th>\n",
              "      <th>X160</th>\n",
              "      <th>X161</th>\n",
              "      <th>X162</th>\n",
              "      <th>X163</th>\n",
              "      <th>X164</th>\n",
              "      <th>X165</th>\n",
              "      <th>X166</th>\n",
              "      <th>X167</th>\n",
              "      <th>X168</th>\n",
              "      <th>X169</th>\n",
              "      <th>X170</th>\n",
              "      <th>X171</th>\n",
              "      <th>X172</th>\n",
              "      <th>X173</th>\n",
              "      <th>X174</th>\n",
              "      <th>X175</th>\n",
              "      <th>X176</th>\n",
              "      <th>X177</th>\n",
              "      <th>X178</th>\n",
              "      <th>binaryLabel</th>\n",
              "    </tr>\n",
              "  </thead>\n",
              "  <tbody>\n",
              "    <tr>\n",
              "      <th>0</th>\n",
              "      <td>135</td>\n",
              "      <td>190</td>\n",
              "      <td>229</td>\n",
              "      <td>223</td>\n",
              "      <td>192</td>\n",
              "      <td>125</td>\n",
              "      <td>55</td>\n",
              "      <td>-9</td>\n",
              "      <td>-33</td>\n",
              "      <td>-38</td>\n",
              "      <td>-10</td>\n",
              "      <td>35</td>\n",
              "      <td>64</td>\n",
              "      <td>113</td>\n",
              "      <td>152</td>\n",
              "      <td>164</td>\n",
              "      <td>127</td>\n",
              "      <td>50</td>\n",
              "      <td>-47</td>\n",
              "      <td>-121</td>\n",
              "      <td>-138</td>\n",
              "      <td>-125</td>\n",
              "      <td>-101</td>\n",
              "      <td>-50</td>\n",
              "      <td>11</td>\n",
              "      <td>39</td>\n",
              "      <td>24</td>\n",
              "      <td>48</td>\n",
              "      <td>64</td>\n",
              "      <td>46</td>\n",
              "      <td>13</td>\n",
              "      <td>-19</td>\n",
              "      <td>-61</td>\n",
              "      <td>-96</td>\n",
              "      <td>-130</td>\n",
              "      <td>-132</td>\n",
              "      <td>-116</td>\n",
              "      <td>-115</td>\n",
              "      <td>-71</td>\n",
              "      <td>-14</td>\n",
              "      <td>...</td>\n",
              "      <td>54</td>\n",
              "      <td>90</td>\n",
              "      <td>111</td>\n",
              "      <td>107</td>\n",
              "      <td>64</td>\n",
              "      <td>32</td>\n",
              "      <td>18</td>\n",
              "      <td>-25</td>\n",
              "      <td>-69</td>\n",
              "      <td>-65</td>\n",
              "      <td>-44</td>\n",
              "      <td>-33</td>\n",
              "      <td>-57</td>\n",
              "      <td>-88</td>\n",
              "      <td>-114</td>\n",
              "      <td>-130</td>\n",
              "      <td>-114</td>\n",
              "      <td>-83</td>\n",
              "      <td>-53</td>\n",
              "      <td>-79</td>\n",
              "      <td>-72</td>\n",
              "      <td>-85</td>\n",
              "      <td>-109</td>\n",
              "      <td>-98</td>\n",
              "      <td>-72</td>\n",
              "      <td>-65</td>\n",
              "      <td>-63</td>\n",
              "      <td>-11</td>\n",
              "      <td>10</td>\n",
              "      <td>8</td>\n",
              "      <td>-17</td>\n",
              "      <td>-15</td>\n",
              "      <td>-31</td>\n",
              "      <td>-77</td>\n",
              "      <td>-103</td>\n",
              "      <td>-127</td>\n",
              "      <td>-116</td>\n",
              "      <td>-83</td>\n",
              "      <td>-51</td>\n",
              "      <td>0</td>\n",
              "    </tr>\n",
              "    <tr>\n",
              "      <th>1</th>\n",
              "      <td>386</td>\n",
              "      <td>382</td>\n",
              "      <td>356</td>\n",
              "      <td>331</td>\n",
              "      <td>320</td>\n",
              "      <td>315</td>\n",
              "      <td>307</td>\n",
              "      <td>272</td>\n",
              "      <td>244</td>\n",
              "      <td>232</td>\n",
              "      <td>237</td>\n",
              "      <td>258</td>\n",
              "      <td>212</td>\n",
              "      <td>2</td>\n",
              "      <td>-267</td>\n",
              "      <td>-605</td>\n",
              "      <td>-850</td>\n",
              "      <td>-1001</td>\n",
              "      <td>-1109</td>\n",
              "      <td>-1090</td>\n",
              "      <td>-967</td>\n",
              "      <td>-746</td>\n",
              "      <td>-464</td>\n",
              "      <td>-152</td>\n",
              "      <td>118</td>\n",
              "      <td>318</td>\n",
              "      <td>427</td>\n",
              "      <td>473</td>\n",
              "      <td>485</td>\n",
              "      <td>447</td>\n",
              "      <td>397</td>\n",
              "      <td>339</td>\n",
              "      <td>312</td>\n",
              "      <td>314</td>\n",
              "      <td>326</td>\n",
              "      <td>335</td>\n",
              "      <td>332</td>\n",
              "      <td>324</td>\n",
              "      <td>310</td>\n",
              "      <td>312</td>\n",
              "      <td>...</td>\n",
              "      <td>27</td>\n",
              "      <td>146</td>\n",
              "      <td>229</td>\n",
              "      <td>269</td>\n",
              "      <td>297</td>\n",
              "      <td>307</td>\n",
              "      <td>303</td>\n",
              "      <td>305</td>\n",
              "      <td>306</td>\n",
              "      <td>307</td>\n",
              "      <td>280</td>\n",
              "      <td>231</td>\n",
              "      <td>159</td>\n",
              "      <td>85</td>\n",
              "      <td>51</td>\n",
              "      <td>43</td>\n",
              "      <td>62</td>\n",
              "      <td>63</td>\n",
              "      <td>63</td>\n",
              "      <td>69</td>\n",
              "      <td>89</td>\n",
              "      <td>123</td>\n",
              "      <td>136</td>\n",
              "      <td>127</td>\n",
              "      <td>102</td>\n",
              "      <td>95</td>\n",
              "      <td>105</td>\n",
              "      <td>131</td>\n",
              "      <td>163</td>\n",
              "      <td>168</td>\n",
              "      <td>164</td>\n",
              "      <td>150</td>\n",
              "      <td>146</td>\n",
              "      <td>152</td>\n",
              "      <td>157</td>\n",
              "      <td>156</td>\n",
              "      <td>154</td>\n",
              "      <td>143</td>\n",
              "      <td>129</td>\n",
              "      <td>1</td>\n",
              "    </tr>\n",
              "    <tr>\n",
              "      <th>2</th>\n",
              "      <td>-32</td>\n",
              "      <td>-39</td>\n",
              "      <td>-47</td>\n",
              "      <td>-37</td>\n",
              "      <td>-32</td>\n",
              "      <td>-36</td>\n",
              "      <td>-57</td>\n",
              "      <td>-73</td>\n",
              "      <td>-85</td>\n",
              "      <td>-94</td>\n",
              "      <td>-99</td>\n",
              "      <td>-94</td>\n",
              "      <td>-96</td>\n",
              "      <td>-104</td>\n",
              "      <td>-103</td>\n",
              "      <td>-92</td>\n",
              "      <td>-75</td>\n",
              "      <td>-69</td>\n",
              "      <td>-69</td>\n",
              "      <td>-53</td>\n",
              "      <td>-37</td>\n",
              "      <td>-14</td>\n",
              "      <td>-10</td>\n",
              "      <td>-39</td>\n",
              "      <td>-78</td>\n",
              "      <td>-102</td>\n",
              "      <td>-98</td>\n",
              "      <td>-80</td>\n",
              "      <td>-54</td>\n",
              "      <td>-40</td>\n",
              "      <td>-35</td>\n",
              "      <td>-39</td>\n",
              "      <td>-32</td>\n",
              "      <td>-13</td>\n",
              "      <td>7</td>\n",
              "      <td>34</td>\n",
              "      <td>41</td>\n",
              "      <td>33</td>\n",
              "      <td>6</td>\n",
              "      <td>-15</td>\n",
              "      <td>...</td>\n",
              "      <td>-82</td>\n",
              "      <td>-107</td>\n",
              "      <td>-126</td>\n",
              "      <td>-124</td>\n",
              "      <td>-108</td>\n",
              "      <td>-84</td>\n",
              "      <td>-68</td>\n",
              "      <td>-61</td>\n",
              "      <td>-56</td>\n",
              "      <td>-63</td>\n",
              "      <td>-62</td>\n",
              "      <td>-33</td>\n",
              "      <td>1</td>\n",
              "      <td>28</td>\n",
              "      <td>45</td>\n",
              "      <td>37</td>\n",
              "      <td>48</td>\n",
              "      <td>62</td>\n",
              "      <td>80</td>\n",
              "      <td>66</td>\n",
              "      <td>23</td>\n",
              "      <td>-11</td>\n",
              "      <td>-39</td>\n",
              "      <td>-44</td>\n",
              "      <td>-42</td>\n",
              "      <td>-45</td>\n",
              "      <td>-48</td>\n",
              "      <td>-42</td>\n",
              "      <td>-6</td>\n",
              "      <td>29</td>\n",
              "      <td>57</td>\n",
              "      <td>64</td>\n",
              "      <td>48</td>\n",
              "      <td>19</td>\n",
              "      <td>-12</td>\n",
              "      <td>-30</td>\n",
              "      <td>-35</td>\n",
              "      <td>-35</td>\n",
              "      <td>-36</td>\n",
              "      <td>0</td>\n",
              "    </tr>\n",
              "    <tr>\n",
              "      <th>3</th>\n",
              "      <td>-105</td>\n",
              "      <td>-101</td>\n",
              "      <td>-96</td>\n",
              "      <td>-92</td>\n",
              "      <td>-89</td>\n",
              "      <td>-95</td>\n",
              "      <td>-102</td>\n",
              "      <td>-100</td>\n",
              "      <td>-87</td>\n",
              "      <td>-79</td>\n",
              "      <td>-72</td>\n",
              "      <td>-68</td>\n",
              "      <td>-74</td>\n",
              "      <td>-80</td>\n",
              "      <td>-83</td>\n",
              "      <td>-73</td>\n",
              "      <td>-68</td>\n",
              "      <td>-61</td>\n",
              "      <td>-58</td>\n",
              "      <td>-59</td>\n",
              "      <td>-64</td>\n",
              "      <td>-79</td>\n",
              "      <td>-84</td>\n",
              "      <td>-97</td>\n",
              "      <td>-94</td>\n",
              "      <td>-84</td>\n",
              "      <td>-77</td>\n",
              "      <td>-75</td>\n",
              "      <td>-72</td>\n",
              "      <td>-68</td>\n",
              "      <td>-76</td>\n",
              "      <td>-76</td>\n",
              "      <td>-72</td>\n",
              "      <td>-67</td>\n",
              "      <td>-69</td>\n",
              "      <td>-69</td>\n",
              "      <td>-69</td>\n",
              "      <td>-67</td>\n",
              "      <td>-68</td>\n",
              "      <td>-69</td>\n",
              "      <td>...</td>\n",
              "      <td>-69</td>\n",
              "      <td>-66</td>\n",
              "      <td>-74</td>\n",
              "      <td>-69</td>\n",
              "      <td>-61</td>\n",
              "      <td>-51</td>\n",
              "      <td>-45</td>\n",
              "      <td>-45</td>\n",
              "      <td>-49</td>\n",
              "      <td>-58</td>\n",
              "      <td>-64</td>\n",
              "      <td>-78</td>\n",
              "      <td>-80</td>\n",
              "      <td>-90</td>\n",
              "      <td>-87</td>\n",
              "      <td>-83</td>\n",
              "      <td>-78</td>\n",
              "      <td>-64</td>\n",
              "      <td>-38</td>\n",
              "      <td>-22</td>\n",
              "      <td>-29</td>\n",
              "      <td>-42</td>\n",
              "      <td>-51</td>\n",
              "      <td>-68</td>\n",
              "      <td>-71</td>\n",
              "      <td>-69</td>\n",
              "      <td>-69</td>\n",
              "      <td>-74</td>\n",
              "      <td>-74</td>\n",
              "      <td>-80</td>\n",
              "      <td>-82</td>\n",
              "      <td>-81</td>\n",
              "      <td>-80</td>\n",
              "      <td>-77</td>\n",
              "      <td>-85</td>\n",
              "      <td>-77</td>\n",
              "      <td>-72</td>\n",
              "      <td>-69</td>\n",
              "      <td>-65</td>\n",
              "      <td>0</td>\n",
              "    </tr>\n",
              "    <tr>\n",
              "      <th>4</th>\n",
              "      <td>-9</td>\n",
              "      <td>-65</td>\n",
              "      <td>-98</td>\n",
              "      <td>-102</td>\n",
              "      <td>-78</td>\n",
              "      <td>-48</td>\n",
              "      <td>-16</td>\n",
              "      <td>0</td>\n",
              "      <td>-21</td>\n",
              "      <td>-59</td>\n",
              "      <td>-90</td>\n",
              "      <td>-103</td>\n",
              "      <td>-84</td>\n",
              "      <td>-43</td>\n",
              "      <td>-9</td>\n",
              "      <td>3</td>\n",
              "      <td>-21</td>\n",
              "      <td>-60</td>\n",
              "      <td>-96</td>\n",
              "      <td>-103</td>\n",
              "      <td>-75</td>\n",
              "      <td>-29</td>\n",
              "      <td>14</td>\n",
              "      <td>55</td>\n",
              "      <td>78</td>\n",
              "      <td>73</td>\n",
              "      <td>28</td>\n",
              "      <td>-13</td>\n",
              "      <td>-43</td>\n",
              "      <td>-68</td>\n",
              "      <td>-78</td>\n",
              "      <td>-75</td>\n",
              "      <td>-55</td>\n",
              "      <td>-41</td>\n",
              "      <td>-19</td>\n",
              "      <td>-20</td>\n",
              "      <td>-29</td>\n",
              "      <td>-36</td>\n",
              "      <td>-20</td>\n",
              "      <td>1</td>\n",
              "      <td>...</td>\n",
              "      <td>38</td>\n",
              "      <td>26</td>\n",
              "      <td>10</td>\n",
              "      <td>-4</td>\n",
              "      <td>-13</td>\n",
              "      <td>-8</td>\n",
              "      <td>0</td>\n",
              "      <td>10</td>\n",
              "      <td>19</td>\n",
              "      <td>29</td>\n",
              "      <td>57</td>\n",
              "      <td>63</td>\n",
              "      <td>45</td>\n",
              "      <td>7</td>\n",
              "      <td>-13</td>\n",
              "      <td>-23</td>\n",
              "      <td>-9</td>\n",
              "      <td>9</td>\n",
              "      <td>11</td>\n",
              "      <td>3</td>\n",
              "      <td>-1</td>\n",
              "      <td>-2</td>\n",
              "      <td>4</td>\n",
              "      <td>18</td>\n",
              "      <td>27</td>\n",
              "      <td>27</td>\n",
              "      <td>14</td>\n",
              "      <td>15</td>\n",
              "      <td>11</td>\n",
              "      <td>10</td>\n",
              "      <td>4</td>\n",
              "      <td>2</td>\n",
              "      <td>-12</td>\n",
              "      <td>-32</td>\n",
              "      <td>-41</td>\n",
              "      <td>-65</td>\n",
              "      <td>-83</td>\n",
              "      <td>-89</td>\n",
              "      <td>-73</td>\n",
              "      <td>0</td>\n",
              "    </tr>\n",
              "  </tbody>\n",
              "</table>\n",
              "<p>5 rows × 179 columns</p>\n",
              "</div>"
            ],
            "text/plain": [
              "    X1   X2   X3   X4   X5   X6  ...  X174  X175  X176  X177  X178  binaryLabel\n",
              "0  135  190  229  223  192  125  ...  -103  -127  -116   -83   -51            0\n",
              "1  386  382  356  331  320  315  ...   157   156   154   143   129            1\n",
              "2  -32  -39  -47  -37  -32  -36  ...   -12   -30   -35   -35   -36            0\n",
              "3 -105 -101  -96  -92  -89  -95  ...   -85   -77   -72   -69   -65            0\n",
              "4   -9  -65  -98 -102  -78  -48  ...   -41   -65   -83   -89   -73            0\n",
              "\n",
              "[5 rows x 179 columns]"
            ]
          },
          "metadata": {
            "tags": []
          },
          "execution_count": 4
        }
      ]
    },
    {
      "cell_type": "markdown",
      "metadata": {
        "id": "a9dG1wQ2smaA"
      },
      "source": [
        "**Data exploration:**\n",
        "\n",
        "Let's get the features and labels in separate matrices:"
      ]
    },
    {
      "cell_type": "code",
      "metadata": {
        "id": "850A0zcHyHFS"
      },
      "source": [
        "X_eeg = df.iloc[:, :-1]\n",
        "y_label = df['binaryLabel']"
      ],
      "execution_count": 5,
      "outputs": []
    },
    {
      "cell_type": "markdown",
      "metadata": {
        "id": "ZnLPSzTGtKop"
      },
      "source": [
        "What is the prevalence of the positive classes to begin with?"
      ]
    },
    {
      "cell_type": "code",
      "metadata": {
        "colab": {
          "base_uri": "https://localhost:8080/"
        },
        "id": "nWq6Ch5TIy5x",
        "outputId": "20772038-c7d5-45bd-e294-7a712064083b"
      },
      "source": [
        "print('prevalence of the positive class: %.3f' \n",
        "      % (sum(y_label)/len(y_label)))"
      ],
      "execution_count": 6,
      "outputs": [
        {
          "output_type": "stream",
          "text": [
            "prevalence of the positive class: 0.200\n"
          ],
          "name": "stdout"
        }
      ]
    },
    {
      "cell_type": "markdown",
      "metadata": {
        "id": "-FbGoek-ta3Y"
      },
      "source": [
        " Visualizing the data:"
      ]
    },
    {
      "cell_type": "code",
      "metadata": {
        "colab": {
          "base_uri": "https://localhost:8080/",
          "height": 265
        },
        "id": "LztQxPcDIpYp",
        "outputId": "575a6980-d355-4d17-e34f-98e06bc151a1"
      },
      "source": [
        "import matplotlib.pyplot as plt\n",
        "\n",
        "# let's look at a a few sample time-series\n",
        "for i in range(50):\n",
        "  plt.plot(X_eeg.iloc[i, :])"
      ],
      "execution_count": 7,
      "outputs": [
        {
          "output_type": "display_data",
          "data": {
            "image/png": "[encoded data removed]",
            "text/plain": [
              "<Figure size 432x288 with 1 Axes>"
            ]
          },
          "metadata": {
            "tags": [],
            "needs_background": "light"
          }
        }
      ]
    },
    {
      "cell_type": "code",
      "metadata": {
        "colab": {
          "base_uri": "https://localhost:8080/"
        },
        "id": "9EvfsyyO5BxD",
        "outputId": "f2d35b85-0829-4576-9fc4-589780640a9c"
      },
      "source": [
        "# non-zero mean\n",
        "X_eeg.mean(axis=1)"
      ],
      "execution_count": 8,
      "outputs": [
        {
          "output_type": "execute_result",
          "data": {
            "text/plain": [
              "0       -16.910112\n",
              "1        28.112360\n",
              "2       -44.044944\n",
              "3       -68.910112\n",
              "4        -6.651685\n",
              "           ...    \n",
              "11495     5.157303\n",
              "11496     5.674157\n",
              "11497     6.752809\n",
              "11498   -38.842697\n",
              "11499    -2.112360\n",
              "Length: 11500, dtype: float64"
            ]
          },
          "metadata": {
            "tags": []
          },
          "execution_count": 8
        }
      ]
    },
    {
      "cell_type": "markdown",
      "metadata": {
        "id": "0CEeJI5VtmaJ"
      },
      "source": [
        "Demeaning each time-series (each row):"
      ]
    },
    {
      "cell_type": "code",
      "metadata": {
        "colab": {
          "base_uri": "https://localhost:8080/",
          "height": 265
        },
        "id": "OHKmYV5UENYs",
        "outputId": "896f3d62-5b13-46a2-80f9-af16df43387b"
      },
      "source": [
        "X_eeg_demean = X_eeg.sub(X_eeg.mean(axis=1), axis=0)\n",
        "for i in range(50):\n",
        "  plt.plot(X_eeg_demean.iloc[i, :])"
      ],
      "execution_count": 9,
      "outputs": [
        {
          "output_type": "display_data",
          "data": {
            "image/png": "[encoded data removed]",
            "text/plain": [
              "<Figure size 432x288 with 1 Axes>"
            ]
          },
          "metadata": {
            "tags": [],
            "needs_background": "light"
          }
        }
      ]
    },
    {
      "cell_type": "code",
      "metadata": {
        "colab": {
          "base_uri": "https://localhost:8080/"
        },
        "id": "oCPf_Md-5UyL",
        "outputId": "6ba1b31f-f936-437f-f9e4-05ca74dcf58e"
      },
      "source": [
        "# let's calculate the mean again. Yes, it's close to zero!\n",
        "X_eeg_demean.mean(axis=1)"
      ],
      "execution_count": 10,
      "outputs": [
        {
          "output_type": "execute_result",
          "data": {
            "text/plain": [
              "0        5.109521e-15\n",
              "1        3.129581e-14\n",
              "2       -2.554760e-15\n",
              "3        5.109521e-15\n",
              "4        2.506859e-14\n",
              "             ...     \n",
              "11495   -1.540840e-14\n",
              "11496    1.325282e-14\n",
              "11497    4.383011e-14\n",
              "11498    7.664281e-15\n",
              "11499   -5.388948e-15\n",
              "Length: 11500, dtype: float64"
            ]
          },
          "metadata": {
            "tags": []
          },
          "execution_count": 10
        }
      ]
    },
    {
      "cell_type": "markdown",
      "metadata": {
        "id": "fV9xyOjPt12g"
      },
      "source": [
        "# **Classification analysis**"
      ]
    },
    {
      "cell_type": "markdown",
      "metadata": {
        "id": "aQ0v3Puft_WQ"
      },
      "source": [
        "## **Data split**\n",
        "\n",
        "Split the demeaned data into training, validation, and test sets"
      ]
    },
    {
      "cell_type": "code",
      "metadata": {
        "colab": {
          "base_uri": "https://localhost:8080/"
        },
        "id": "6Qqqi7aIx-iz",
        "outputId": "e3e31225-8b75-4eb0-bc3e-a467d09c98a8"
      },
      "source": [
        "from sklearn.model_selection import train_test_split\n",
        "\n",
        "# split the data into subsets with the retios below\n",
        "train_ratio = 0.75\n",
        "validation_ratio = 0.15\n",
        "test_ratio = 0.10\n",
        "\n",
        "# train is now 75% of the entire data set\n",
        "X_train, X_test, y_train, y_test = train_test_split(X_eeg_demean, y_label, \n",
        "                                                    test_size=1 - train_ratio,\n",
        "                                                    shuffle=True,\n",
        "                                                    random_state=111)\n",
        "\n",
        "# test is now 10% of the initial data set\n",
        "# validation is now 15% of the initial data set\n",
        "X_valid, X_test, y_valid, y_test = train_test_split(X_test, y_test, \n",
        "                                                    test_size=test_ratio/(test_ratio + validation_ratio),\n",
        "                                                    shuffle=True,\n",
        "                                                    random_state=111) \n",
        "\n",
        "print('Training set shape: %s \\nValidation set shape: %s \\nTest set shape: %s' \n",
        "      % (X_train.shape, X_valid.shape, X_test.shape))"
      ],
      "execution_count": 11,
      "outputs": [
        {
          "output_type": "stream",
          "text": [
            "Training set shape: (8625, 178) \n",
            "Validation set shape: (1725, 178) \n",
            "Test set shape: (1150, 178)\n"
          ],
          "name": "stdout"
        }
      ]
    },
    {
      "cell_type": "code",
      "metadata": {
        "colab": {
          "base_uri": "https://localhost:8080/"
        },
        "id": "z3naNGdQ1FJF",
        "outputId": "905434cb-08fb-41d7-ade1-3832929a50d4"
      },
      "source": [
        "# Let's check the prevalence of positive cases in the new sets\n",
        "print('prevalence of the positive class in training set: %.3f' \n",
        "      % (sum(y_train)/len(y_train)))\n",
        "\n",
        "print('prevalence of the positive class in validation set: %.3f' \n",
        "      % (sum(y_valid)/len(y_valid)))\n",
        "\n",
        "print('prevalence of the positive class in test set: %.3f' \n",
        "      % (sum(y_test)/len(y_test)))"
      ],
      "execution_count": 12,
      "outputs": [
        {
          "output_type": "stream",
          "text": [
            "prevalence of the positive class in training set: 0.203\n",
            "prevalence of the positive class in validation set: 0.194\n",
            "prevalence of the positive class in test set: 0.183\n"
          ],
          "name": "stdout"
        }
      ]
    },
    {
      "cell_type": "markdown",
      "metadata": {
        "id": "InNLWnAcvZlq"
      },
      "source": [
        "## **Generate a classification report**"
      ]
    },
    {
      "cell_type": "markdown",
      "metadata": {
        "id": "D_gY_pLT80Sg"
      },
      "source": [
        "Let's load some of the main classification metrics:\n"
      ]
    },
    {
      "cell_type": "code",
      "metadata": {
        "id": "rpHviNnS4c2A"
      },
      "source": [
        "from sklearn.metrics import balanced_accuracy_score, precision_score, recall_score, f1_score\n",
        "\n",
        "def print_report(y_actual, y_pred):\n",
        "    # balanced accuracy takes the data imbalance into account\n",
        "    accuracy = balanced_accuracy_score(y_actual, y_pred)\n",
        "    # recall is the ability of the classifier to find all the positive samples \n",
        "    # (true pos / true pos+false neg)\n",
        "    recall = recall_score(y_actual, y_pred)\n",
        "    # precision is the ability of the classifier not to label as positive a sample that is negative\n",
        "    # (true pos / true pos+false pos)\n",
        "    precision = precision_score(y_actual, y_pred)\n",
        "    # F1 score can be interpreted as a weighted average of the precision and recall\n",
        "    f1score = f1_score(y_actual, y_pred, 'weighted') # \"weighted\" option takes into account data imbalance\n",
        "\n",
        "    print('accuracy:%.3f'%accuracy)\n",
        "    print('recall:%.3f'%recall)\n",
        "    print('precision:%.3f'%precision)\n",
        "    print('F1-score:%.3f'%f1score)\n",
        "    print(' ')\n",
        "    return accuracy, recall, precision, f1score"
      ],
      "execution_count": 13,
      "outputs": []
    },
    {
      "cell_type": "markdown",
      "metadata": {
        "id": "_wIGRhjZ5qxK"
      },
      "source": [
        "## **Model Selection**"
      ]
    },
    {
      "cell_type": "markdown",
      "metadata": {
        "id": "e1-8fB6D51PN"
      },
      "source": [
        "## K nearest neighbors (KNN)"
      ]
    },
    {
      "cell_type": "code",
      "metadata": {
        "colab": {
          "base_uri": "https://localhost:8080/"
        },
        "id": "Mh2tOm4c1rWx",
        "outputId": "8fe5511e-0add-4062-a2f5-8e7907e9e1cc"
      },
      "source": [
        "from sklearn.neighbors import KNeighborsClassifier\n",
        "# Train KNN Classifier\n",
        "knn = KNeighborsClassifier(n_neighbors=100)\n",
        "knn.fit(X_train, y_train)\n",
        "\n",
        "# Predict y using trained classifier\n",
        "y_train_preds = knn.predict(X_train)\n",
        "y_valid_preds = knn.predict(X_valid)\n",
        "\n",
        "# Model performance\n",
        "print('KNN')\n",
        "print('Training:')\n",
        "knn_train_accuracy, knn_train_recall, knn_train_precision, knn_train_f1 = \\\n",
        "  print_report(y_train,y_train_preds)\n",
        "print('Validation:')\n",
        "knn_valid_accuracy, knn_valid_recall, knn_valid_precision, knn_valid_f1 = \\\n",
        "  print_report(y_valid,y_valid_preds)"
      ],
      "execution_count": 14,
      "outputs": [
        {
          "output_type": "stream",
          "text": [
            "KNN\n",
            "Training:\n",
            "accuracy:0.577\n",
            "recall:0.155\n",
            "precision:1.000\n",
            "F1-score:0.268\n",
            " \n",
            "Validation:\n",
            "accuracy:0.582\n",
            "recall:0.165\n",
            "precision:1.000\n",
            "F1-score:0.283\n",
            " \n"
          ],
          "name": "stdout"
        }
      ]
    },
    {
      "cell_type": "markdown",
      "metadata": {
        "id": "DDCn7bM630sU"
      },
      "source": [
        "Not so good! Maybe we can play with the number of neighbors (k), but let's try another classifier for now."
      ]
    },
    {
      "cell_type": "markdown",
      "metadata": {
        "id": "KsQCwwyM3886"
      },
      "source": [
        "## Logistic Regression"
      ]
    },
    {
      "cell_type": "code",
      "metadata": {
        "colab": {
          "base_uri": "https://localhost:8080/"
        },
        "id": "poKpml_L5gEq",
        "outputId": "95bea7a4-6a3b-4c55-f098-ac71fdba248f"
      },
      "source": [
        "from sklearn.linear_model import LogisticRegression\n",
        "# Train LogisticRegression Classifier\n",
        "lr = LogisticRegression(random_state=111)\n",
        "lr.fit(X_train, y_train)\n",
        "\n",
        "# Predict y using trained classifier\n",
        "y_train_preds = lr.predict(X_train)\n",
        "y_valid_preds = lr.predict(X_valid)\n",
        "\n",
        "# Model performance\n",
        "print('Logistic Regression')\n",
        "print('Training:')\n",
        "lr_train_accuracy, lr_train_recall, lr_train_precision, lr_train_f1 = \\\n",
        "  print_report(y_train,y_train_preds)\n",
        "print('Validation:')\n",
        "lr_valid_accuracy, lr_valid_recall, lr_valid_precision, lr_valid_f1 = \\\n",
        "  print_report(y_valid,y_valid_preds)"
      ],
      "execution_count": 15,
      "outputs": [
        {
          "output_type": "stream",
          "text": [
            "Logistic Regression\n",
            "Training:\n",
            "accuracy:0.621\n",
            "recall:0.524\n",
            "precision:0.322\n",
            "F1-score:0.399\n",
            " \n",
            "Validation:\n",
            "accuracy:0.561\n",
            "recall:0.446\n",
            "precision:0.249\n",
            "F1-score:0.319\n",
            " \n"
          ],
          "name": "stdout"
        }
      ]
    },
    {
      "cell_type": "markdown",
      "metadata": {
        "id": "O1wyS3Qq4joY"
      },
      "source": [
        "Maybe a bit better (better F1-score), also much faster than KNN. But not so much. Again we can play with the model parameters, but let's move on for now."
      ]
    },
    {
      "cell_type": "markdown",
      "metadata": {
        "id": "1lyxk9AC4lRu"
      },
      "source": [
        "## Gaussian Naive Bayes"
      ]
    },
    {
      "cell_type": "code",
      "metadata": {
        "colab": {
          "base_uri": "https://localhost:8080/"
        },
        "id": "-wZZUdm26swa",
        "outputId": "fdcbde11-0e58-40b0-fa2c-9d173aff425c"
      },
      "source": [
        "from sklearn.naive_bayes import GaussianNB\n",
        "# Train Gaussian NB Classifier\n",
        "nb = GaussianNB()\n",
        "nb.fit(X_train, y_train)\n",
        "\n",
        "# Predict y using trained classifier\n",
        "y_train_preds = nb.predict(X_train)\n",
        "y_valid_preds = nb.predict(X_valid)\n",
        "\n",
        "# Model performance\n",
        "print('Naive Bayes')\n",
        "print('Training:')\n",
        "nb_train_accuracy, nb_train_recall, nb_train_precision, nb_train_f1 = \\\n",
        "  print_report(y_train,y_train_preds)\n",
        "print('Validation:')\n",
        "nb_valid_accuracy, nb_valid_recall, nb_valid_precision, nb_valid_f1 = \\\n",
        "  print_report(y_valid,y_valid_preds)"
      ],
      "execution_count": 16,
      "outputs": [
        {
          "output_type": "stream",
          "text": [
            "Naive Bayes\n",
            "Training:\n",
            "accuracy:0.943\n",
            "recall:0.916\n",
            "precision:0.889\n",
            "F1-score:0.902\n",
            " \n",
            "Validation:\n",
            "accuracy:0.946\n",
            "recall:0.916\n",
            "precision:0.903\n",
            "F1-score:0.909\n",
            " \n"
          ],
          "name": "stdout"
        }
      ]
    },
    {
      "cell_type": "markdown",
      "metadata": {
        "id": "dpS_g2WP4T2W"
      },
      "source": [
        "Woohoo!! Now this is already much better! We get a high performance in validation set (which is unseen to the model). Let's try another one!\n",
        "\n"
      ]
    },
    {
      "cell_type": "markdown",
      "metadata": {
        "id": "E9c5AxZc5Edu"
      },
      "source": [
        "## Decision Tree"
      ]
    },
    {
      "cell_type": "code",
      "metadata": {
        "colab": {
          "base_uri": "https://localhost:8080/"
        },
        "id": "L__kJFDN-7rd",
        "outputId": "80aa8be6-b474-4385-8b2f-148cb5f0b778"
      },
      "source": [
        "from sklearn.tree import DecisionTreeClassifier\n",
        "# Train DecisionTree Classifier\n",
        "tree = DecisionTreeClassifier(max_depth=10, random_state=111)\n",
        "tree.fit(X_train, y_train)\n",
        "\n",
        "# Predict y using trained classifier\n",
        "y_train_preds = tree.predict(X_train)\n",
        "y_valid_preds = tree.predict(X_valid)\n",
        "\n",
        "# Model performance\n",
        "print('Decision Tree')\n",
        "print('Training:')\n",
        "tree_train_accuracy, tree_train_recall, tree_train_precision, tree_train_f1 = \\\n",
        "  print_report(y_train,y_train_preds)\n",
        "print('Validation:')\n",
        "tree_valid_accuracy, tree_valid_recall, tree_valid_precision, tree_valid_f1 = \\\n",
        "  print_report(y_valid,y_valid_preds)"
      ],
      "execution_count": 17,
      "outputs": [
        {
          "output_type": "stream",
          "text": [
            "Decision Tree\n",
            "Training:\n",
            "accuracy:0.958\n",
            "recall:0.918\n",
            "precision:0.988\n",
            "F1-score:0.952\n",
            " \n",
            "Validation:\n",
            "accuracy:0.888\n",
            "recall:0.802\n",
            "precision:0.882\n",
            "F1-score:0.840\n",
            " \n"
          ],
          "name": "stdout"
        }
      ]
    },
    {
      "cell_type": "markdown",
      "metadata": {
        "id": "KCrbuiIs5d0O"
      },
      "source": [
        "Not too bad! Let's try something different here and see whether we can improve the model performance by tweaking some of the parameters."
      ]
    },
    {
      "cell_type": "markdown",
      "metadata": {
        "id": "RV3SS3ix5sDN"
      },
      "source": [
        "## Hyperparameter tuning for Decision Tree Classifier\n",
        "\n",
        "Perform a GridSearch to tune hyperparameters in Decision Trees. "
      ]
    },
    {
      "cell_type": "code",
      "metadata": {
        "colab": {
          "base_uri": "https://localhost:8080/"
        },
        "id": "NuSm9Z7QT2a6",
        "outputId": "01b0c277-26cb-493f-bf79-08b3a70a9526"
      },
      "source": [
        "\n",
        "# For the GridSearch, we will use the predefined validation set to measure \n",
        "# the performance of classifier (using PredefinedSplit function). PredefinedSplit \n",
        "# assignes index -1 to training set and index 0 to validation set. Therefore, \n",
        "# the performance is measured only on validation set for each comibination of hyperparameters.\n",
        "\n",
        "import time\n",
        "import numpy as np\n",
        "# let's see how long this takes\n",
        "start = time.time()\n",
        "\n",
        "# prepare the data for GridSeacrhCV by combining training and validation sets\n",
        "X_train_cv = np.concatenate((X_train, X_valid), axis = 0)\n",
        "y_train_cv = np.concatenate((y_train, y_valid))\n",
        "\n",
        "# make indices for training and validation such that training index is -1 and validation index is zero.\n",
        "# this step is to make sure the performance is measured on the validation set and not the training set.\n",
        "index_train = np.zeros((len(X_train)))\n",
        "index_train[:] = -1\n",
        "index_valid = np.zeros((len(X_valid)))\n",
        "\n",
        "# make cv index for PredefinedSplit that is going to be fed to GridSearchCV to measure perfromance on validation set\n",
        "index_cv = np.concatenate((index_train, index_valid))\n",
        "\n",
        "# now let's start the GridSearch\n",
        "from sklearn.model_selection import PredefinedSplit\n",
        "# now the PredefinedSplit function will know which samples are from the validation set (based on the indices we defined)\n",
        "ps =  PredefinedSplit(test_fold=index_cv)\n",
        "\n",
        "# Perform exhaustive GridSearch for parameters of DecisionTree\n",
        "from sklearn.model_selection import GridSearchCV\n",
        "from sklearn.metrics import f1_score, make_scorer # we'll use F1-Score here only to make our lives easier\n",
        "\n",
        "grid_scorer = make_scorer(f1_score, average='weighted')\n",
        "\n",
        "# define parameter space\n",
        "parameters = {'max_depth': [None, 30, 100],\n",
        "              'min_samples_split': [2, 100],\n",
        "              'min_samples_leaf': [1, 100],\n",
        "              'max_leaf_nodes': [None, 100]}\n",
        "\n",
        "tree = DecisionTreeClassifier(criterion='gini', splitter='best', random_state=111)\n",
        "clf = GridSearchCV(tree, parameters, cv=ps, scoring=grid_scorer)\n",
        "\n",
        "clf.fit(X_train_cv, y_train_cv)\n",
        "\n",
        "end = time.time()\n",
        "\n",
        "print('Finished running in %.3f seconds' % (end-start))"
      ],
      "execution_count": 19,
      "outputs": [
        {
          "output_type": "stream",
          "text": [
            "Finished running in 107.683 seconds\n"
          ],
          "name": "stdout"
        }
      ]
    },
    {
      "cell_type": "code",
      "metadata": {
        "colab": {
          "base_uri": "https://localhost:8080/"
        },
        "id": "jDM_VYTCVVRm",
        "outputId": "792aea23-7671-44ab-9242-163ac5fefa1e"
      },
      "source": [
        "# identify the parameters of the best model performance\n",
        "best_hyperparam = clf.best_params_\n",
        "\n",
        "best_max_depth = best_hyperparam.get('max_depth')\n",
        "best_max_leaf_nodes = best_hyperparam.get('max_leaf_nodes')\n",
        "best_min_samples_leaf = best_hyperparam.get('min_samples_leaf')\n",
        "best_min_samples_split = best_hyperparam.get('min_samples_split')\n",
        "best_score = clf.best_score_\n",
        "\n",
        "print('\\nBest hyperparameters found by GridSearch:',\n",
        "      '\\nBest max_depth = %s' % best_max_depth ,\n",
        "      '\\nBest max_leaf_nodes = %s' % best_max_leaf_nodes,\n",
        "      '\\nBest min_samples_leaf = %s' % best_min_samples_leaf,\n",
        "      '\\nBest min_samples_split = %s' % best_min_samples_split,\n",
        "      '\\n\\nBest score obtained by GridSearch, measured on validation set:',\n",
        "      '\\nF1-measure(weighted) = %.3f' % best_score)"
      ],
      "execution_count": 20,
      "outputs": [
        {
          "output_type": "stream",
          "text": [
            "\n",
            "Best hyperparameters found by GridSearch: \n",
            "Best max_depth = None \n",
            "Best max_leaf_nodes = 100 \n",
            "Best min_samples_leaf = 1 \n",
            "Best min_samples_split = 2 \n",
            "\n",
            "Best score obtained by GridSearch, measured on validation set: \n",
            "F1-measure(weighted) = 0.950\n"
          ],
          "name": "stdout"
        }
      ]
    },
    {
      "cell_type": "code",
      "metadata": {
        "colab": {
          "base_uri": "https://localhost:8080/"
        },
        "id": "PMRpl_ikVZP7",
        "outputId": "f8314c4f-12c6-4821-9023-04a4e0648c8e"
      },
      "source": [
        "# use best hyperparameters to train the classifier again. Then predict y for train, valid and test sets\n",
        "bestTree = DecisionTreeClassifier(criterion='gini', splitter='best',\n",
        "                                  random_state=111,\n",
        "                                  max_depth=best_max_depth,\n",
        "                                  min_samples_split=best_min_samples_split,\n",
        "                                  min_samples_leaf=best_min_samples_leaf,\n",
        "                                  max_leaf_nodes=best_max_leaf_nodes)\n",
        "bestTree.fit(X_train, y_train)\n",
        "\n",
        "# Predict Y using trained classifier\n",
        "y_train_pred = bestTree.predict(X_train)\n",
        "y_valid_pred = bestTree.predict(X_valid)\n",
        "y_test_pred = bestTree.predict(X_test)\n",
        "\n",
        "# Measure F1\n",
        "F1_train_best = f1_score(y_train, y_train_pred, average='weighted')\n",
        "F1_valid_best = f1_score(y_valid, y_valid_pred, average='weighted')\n",
        "F1_test_best = f1_score(y_test, y_test_pred, average='weighted')\n",
        "\n",
        "print('\\nPerformance of Decision Tree Classifier:',\n",
        "      '\\n\\nTraining set:',\n",
        "      '\\nF1-measure(weighted) = %.3f' % F1_train_best, \n",
        "      '\\n\\nValidation set:',\n",
        "      '\\nF1-measure(weighted) = %.3f' % F1_valid_best,\n",
        "      '\\n\\nTest set:',\n",
        "      '\\nF1-measure(weighted) = %.3f' % F1_test_best)"
      ],
      "execution_count": 21,
      "outputs": [
        {
          "output_type": "stream",
          "text": [
            "\n",
            "Performance of Decision Tree Classifier: \n",
            "\n",
            "Training set: \n",
            "F1-measure(weighted) = 0.988 \n",
            "\n",
            "Validation set: \n",
            "F1-measure(weighted) = 0.950 \n",
            "\n",
            "Test set: \n",
            "F1-measure(weighted) = 0.946\n"
          ],
          "name": "stdout"
        }
      ]
    },
    {
      "cell_type": "markdown",
      "metadata": {
        "id": "kzpCyk1R8wuC"
      },
      "source": [
        "Awesome! Model performance on the completely unseen test set looks pretty good! \n",
        "\n",
        "This is fun! Let's try something else!"
      ]
    },
    {
      "cell_type": "markdown",
      "metadata": {
        "id": "Z87yEcoJ9Llc"
      },
      "source": [
        "## Support Vectore Machine (SVM)"
      ]
    },
    {
      "cell_type": "code",
      "metadata": {
        "colab": {
          "base_uri": "https://localhost:8080/"
        },
        "id": "EE514b1U8gxg",
        "outputId": "f18625bc-5dfd-4592-d978-cfcef6cab209"
      },
      "source": [
        "from sklearn.svm import SVC\n",
        "# Train SVC Classifier\n",
        "svc = SVC(random_state=111)\n",
        "svc.fit(X_train, y_train)\n",
        "\n",
        "# Predict y using using trained classifier\n",
        "y_train_preds = svc.predict(X_train)\n",
        "y_valid_preds = svc.predict(X_valid)\n",
        "\n",
        "# Model performance\n",
        "print('SVC')\n",
        "print('Training:')\n",
        "svc_train_accuracy, svc_train_recall, svc_train_precision, svc_train_f1 = \\\n",
        "  print_report(y_train,y_train_preds)\n",
        "print('Validation:')\n",
        "svc_valid_accuracy, svc_valid_recall, svc_valid_precision, svc_valid_f1 = \\\n",
        "  print_report(y_valid,y_valid_preds)"
      ],
      "execution_count": 22,
      "outputs": [
        {
          "output_type": "stream",
          "text": [
            "SVC\n",
            "Training:\n",
            "accuracy:0.963\n",
            "recall:0.932\n",
            "precision:0.977\n",
            "F1-score:0.954\n",
            " \n",
            "Validation:\n",
            "accuracy:0.951\n",
            "recall:0.910\n",
            "precision:0.962\n",
            "F1-score:0.935\n",
            " \n"
          ],
          "name": "stdout"
        }
      ]
    },
    {
      "cell_type": "markdown",
      "metadata": {
        "id": "V-dR_YHx943o"
      },
      "source": [
        "The model is doing great without any hyperparameter tuning! But let's see if we can improve it even more."
      ]
    },
    {
      "cell_type": "markdown",
      "metadata": {
        "id": "XCoBkCe7-CxX"
      },
      "source": [
        "## Hyperparameter tuning for Support Vector Machine"
      ]
    },
    {
      "cell_type": "code",
      "metadata": {
        "colab": {
          "base_uri": "https://localhost:8080/"
        },
        "id": "xfRrhtXMEcry",
        "outputId": "b760de92-9f56-49a3-a94e-5ef715d127a7"
      },
      "source": [
        "start = time.time()\n",
        "\n",
        "# search for hyperparameter C\n",
        "# Default C is 1, it must be a positive value. We'll scan over C=[0.001, 100]\n",
        "cval = np.logspace(-3,2,10)\n",
        "F1_train = []\n",
        "F1_valid = []\n",
        "for c in range(len(cval)):\n",
        "    # Train SVC Classifier\n",
        "    svc = SVC(C=cval[c], random_state=111)\n",
        "    svc.fit(X_train, y_train)\n",
        "\n",
        "    # Predict Y using trained classifier\n",
        "    y_train_pred = svc.predict(X_train)\n",
        "    y_valid_pred = svc.predict(X_valid)\n",
        "\n",
        "    # Measure F1\n",
        "    F1_train.append(f1_score(y_train, y_train_pred, average='weighted'))\n",
        "    F1_valid.append(f1_score(y_valid, y_valid_pred, average='weighted'))\n",
        "    \n",
        "F1_train = np.array(F1_train)\n",
        "F1_valid = np.array(F1_valid)\n",
        "\n",
        "end = time.time()\n",
        "\n",
        "print('Finished running in %.3f seconds' % (end-start))"
      ],
      "execution_count": 29,
      "outputs": [
        {
          "output_type": "stream",
          "text": [
            "Finished running in 82.194 seconds\n"
          ],
          "name": "stdout"
        }
      ]
    },
    {
      "cell_type": "code",
      "metadata": {
        "colab": {
          "base_uri": "https://localhost:8080/",
          "height": 312
        },
        "id": "WXVccGGXIs2s",
        "outputId": "b0c91237-edf5-4244-ce28-3ae3d2792f47"
      },
      "source": [
        "# Plot F1-score for validation and traning sets. We're looking for the C value that \n",
        "# corresponds to highest F1-score in validation set.\n",
        "plt.plot(np.log10(cval), F1_train, 'r', label = 'Training')\n",
        "plt.plot(np.log10(cval), F1_valid, 'b', label = 'Validation')\n",
        "\n",
        "plt.xlabel('log(C)')\n",
        "plt.ylabel('F1-measure')\n",
        "plt.title('Linear SVM: Hyperparameter Search')\n",
        "\n",
        "plt.legend()"
      ],
      "execution_count": 30,
      "outputs": [
        {
          "output_type": "execute_result",
          "data": {
            "text/plain": [
              "<matplotlib.legend.Legend at 0x7fa16c82a810>"
            ]
          },
          "metadata": {
            "tags": []
          },
          "execution_count": 30
        },
        {
          "output_type": "display_data",
          "data": {
            "image/png": "[encoded data removed]",
            "text/plain": [
              "<Figure size 432x288 with 1 Axes>"
            ]
          },
          "metadata": {
            "tags": [],
            "needs_background": "light"
          }
        }
      ]
    },
    {
      "cell_type": "code",
      "metadata": {
        "colab": {
          "base_uri": "https://localhost:8080/"
        },
        "id": "i28fRjC9JCAP",
        "outputId": "4d80cdd5-a6d5-411b-98b7-20f9ec37f080"
      },
      "source": [
        "#pick the best C\n",
        "best_C = cval[np.argmax(F1_valid)]\n",
        "\n",
        "print('Best C = %.3f' % best_C)\n",
        "print('Log(best C) = %.3f' % np.log10(best_C))\n",
        "print('F1-Measure for best C (validation set) = %.3f' % F1_valid[np.argmax(F1_valid)])"
      ],
      "execution_count": 31,
      "outputs": [
        {
          "output_type": "stream",
          "text": [
            "Best C = 27.826\n",
            "Log(best C) = 1.444\n",
            "F1-Measure for best C (validation set) = 0.983\n"
          ],
          "name": "stdout"
        }
      ]
    },
    {
      "cell_type": "code",
      "metadata": {
        "colab": {
          "base_uri": "https://localhost:8080/"
        },
        "id": "84OIMPpCJFH-",
        "outputId": "4cabd6e8-afc5-436c-a653-0a49085cd38b"
      },
      "source": [
        "# use best C to train the classifier again. Then predict Y for train, valid and test sets\n",
        "bestSVC = SVC(C=best_C, random_state=111)\n",
        "bestSVC.fit(X_train, y_train)\n",
        "\n",
        "# Predict Y using trained classifier\n",
        "y_train_pred = bestSVC.predict(X_train)\n",
        "y_valid_pred = bestSVC.predict(X_valid)\n",
        "y_test_pred = bestSVC.predict(X_test)\n",
        "\n",
        "# Measure F1\n",
        "F1_train_best = f1_score(y_train, y_train_pred, average='weighted')\n",
        "F1_valid_best = f1_score(y_valid, y_valid_pred, average='weighted')\n",
        "F1_test_best = f1_score(y_test, y_test_pred, average='weighted')\n",
        "\n",
        "print('\\nPerformance of Linear SVM Classifier:',\n",
        "      '\\n\\nTraining set:',\n",
        "      '\\nF1-measure(weighted) = %.3f' % F1_train_best, \n",
        "      '\\n\\nValidation set:',\n",
        "      '\\nF1-measure(weighted) = %.3f' % F1_valid_best,\n",
        "      '\\n\\nTest set:',\n",
        "      '\\nF1-measure(weighted) = %.3f' % F1_test_best)"
      ],
      "execution_count": 32,
      "outputs": [
        {
          "output_type": "stream",
          "text": [
            "\n",
            "Performance of Linear SVM Classifier: \n",
            "\n",
            "Training set: \n",
            "F1-measure(weighted) = 0.999 \n",
            "\n",
            "Validation set: \n",
            "F1-measure(weighted) = 0.983 \n",
            "\n",
            "Test set: \n",
            "F1-measure(weighted) = 0.971\n"
          ],
          "name": "stdout"
        }
      ]
    },
    {
      "cell_type": "markdown",
      "metadata": {
        "id": "xwX87THoAz4t"
      },
      "source": [
        "Perfect! Model performance on unseen test set is great!"
      ]
    },
    {
      "cell_type": "markdown",
      "metadata": {
        "id": "6471x_GCA7gb"
      },
      "source": [
        "## Conclusion\n",
        "\n",
        "It seems like Support Vector Machine is a pretty good classifier in successfully detecting seizure time-series in unseen test data (F1-score = 0.97)! However we didn't perform hyperparameter tuning for all the classifiers. We might be able to get high performance with the other ones too.\n"
      ]
    },
    {
      "cell_type": "code",
      "metadata": {
        "id": "odau3hhNBJnl"
      },
      "source": [
        ""
      ],
      "execution_count": null,
      "outputs": []
    }
  ]
}